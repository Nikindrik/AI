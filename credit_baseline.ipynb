{
  "cells": [
    {
      "cell_type": "code",
      "execution_count": 20,
      "metadata": {
        "colab": {
          "base_uri": "https://localhost:8080/"
        },
        "id": "D5zJQU2mKQAZ",
        "outputId": "77de7428-b348-420d-e4a5-b4558fba6d57"
      },
      "outputs": [],
      "source": [
        "import numpy as np\n",
        "import pandas as pd\n",
        "from matplotlib import pyplot as plt\n",
        "from sklearn.tree import DecisionTreeClassifier\n",
        "from sklearn.ensemble import RandomForestClassifier\n",
        "from sklearn.model_selection import KFold, train_test_split, GridSearchCV, cross_val_score\n",
        "from sklearn.linear_model import LogisticRegression\n",
        "import string\n",
        "import catboost"
      ]
    },
    {
      "attachments": {},
      "cell_type": "markdown",
      "metadata": {
        "id": "gQVCkWT6KQAa"
      },
      "source": [
        "Откроем файл с данными."
      ]
    },
    {
      "cell_type": "code",
      "execution_count": 21,
      "metadata": {},
      "outputs": [],
      "source": [
        "df = pd.read_csv('credit_train.csv')"
      ]
    },
    {
      "cell_type": "code",
      "execution_count": 22,
      "metadata": {
        "colab": {
          "base_uri": "https://localhost:8080/",
          "height": 206
        },
        "id": "2CKBD8-nKQAb",
        "outputId": "6d8d623a-78c1-46a8-c30e-38dc15bad522"
      },
      "outputs": [
        {
          "data": {
            "text/html": [
              "<div>\n",
              "<style scoped>\n",
              "    .dataframe tbody tr th:only-of-type {\n",
              "        vertical-align: middle;\n",
              "    }\n",
              "\n",
              "    .dataframe tbody tr th {\n",
              "        vertical-align: top;\n",
              "    }\n",
              "\n",
              "    .dataframe thead th {\n",
              "        text-align: right;\n",
              "    }\n",
              "</style>\n",
              "<table border=\"1\" class=\"dataframe\">\n",
              "  <thead>\n",
              "    <tr style=\"text-align: right;\">\n",
              "      <th></th>\n",
              "      <th>id</th>\n",
              "      <th>gender</th>\n",
              "      <th>age</th>\n",
              "      <th>marital_status</th>\n",
              "      <th>credit_sum</th>\n",
              "      <th>credit_month</th>\n",
              "      <th>tariff_id</th>\n",
              "      <th>education</th>\n",
              "      <th>credit_count</th>\n",
              "      <th>overdue_credit_count</th>\n",
              "      <th>job_pos</th>\n",
              "      <th>credit_score</th>\n",
              "      <th>region</th>\n",
              "      <th>income</th>\n",
              "      <th>opened</th>\n",
              "    </tr>\n",
              "  </thead>\n",
              "  <tbody>\n",
              "    <tr>\n",
              "      <th>0</th>\n",
              "      <td>26031</td>\n",
              "      <td>M</td>\n",
              "      <td>24</td>\n",
              "      <td>UNM</td>\n",
              "      <td>24000,00</td>\n",
              "      <td>10</td>\n",
              "      <td>1.60</td>\n",
              "      <td>SCH</td>\n",
              "      <td>2.0</td>\n",
              "      <td>0.0</td>\n",
              "      <td>SPC</td>\n",
              "      <td>0,728851</td>\n",
              "      <td>ОБЛ ЛЕНИНГРАДСКАЯ</td>\n",
              "      <td>35000.0</td>\n",
              "      <td>True</td>\n",
              "    </tr>\n",
              "    <tr>\n",
              "      <th>1</th>\n",
              "      <td>148877</td>\n",
              "      <td>M</td>\n",
              "      <td>23</td>\n",
              "      <td>UNM</td>\n",
              "      <td>16339,00</td>\n",
              "      <td>18</td>\n",
              "      <td>1.10</td>\n",
              "      <td>SCH</td>\n",
              "      <td>2.0</td>\n",
              "      <td>0.0</td>\n",
              "      <td>SPC</td>\n",
              "      <td>0,347385</td>\n",
              "      <td>МОСКВА Г</td>\n",
              "      <td>38000.0</td>\n",
              "      <td>True</td>\n",
              "    </tr>\n",
              "    <tr>\n",
              "      <th>2</th>\n",
              "      <td>142019</td>\n",
              "      <td>M</td>\n",
              "      <td>54</td>\n",
              "      <td>UNM</td>\n",
              "      <td>15652,00</td>\n",
              "      <td>10</td>\n",
              "      <td>1.32</td>\n",
              "      <td>GRD</td>\n",
              "      <td>2.0</td>\n",
              "      <td>0.0</td>\n",
              "      <td>SPC</td>\n",
              "      <td>0,349705</td>\n",
              "      <td>ОБЛ МОСКОВСКАЯ</td>\n",
              "      <td>38000.0</td>\n",
              "      <td>True</td>\n",
              "    </tr>\n",
              "    <tr>\n",
              "      <th>3</th>\n",
              "      <td>146816</td>\n",
              "      <td>F</td>\n",
              "      <td>52</td>\n",
              "      <td>UNM</td>\n",
              "      <td>16560,00</td>\n",
              "      <td>10</td>\n",
              "      <td>1.10</td>\n",
              "      <td>SCH</td>\n",
              "      <td>1.0</td>\n",
              "      <td>0.0</td>\n",
              "      <td>SPC</td>\n",
              "      <td>0,359232</td>\n",
              "      <td>РЕСП МОРДОВИЯ</td>\n",
              "      <td>28000.0</td>\n",
              "      <td>False</td>\n",
              "    </tr>\n",
              "    <tr>\n",
              "      <th>4</th>\n",
              "      <td>27699</td>\n",
              "      <td>F</td>\n",
              "      <td>63</td>\n",
              "      <td>WID</td>\n",
              "      <td>9078,00</td>\n",
              "      <td>18</td>\n",
              "      <td>1.10</td>\n",
              "      <td>SCH</td>\n",
              "      <td>4.0</td>\n",
              "      <td>0.0</td>\n",
              "      <td>SPC</td>\n",
              "      <td>0,529368</td>\n",
              "      <td>ЧЕЛЯБИНСКАЯ ОБЛ</td>\n",
              "      <td>30000.0</td>\n",
              "      <td>False</td>\n",
              "    </tr>\n",
              "  </tbody>\n",
              "</table>\n",
              "</div>"
            ],
            "text/plain": [
              "       id gender  age marital_status credit_sum  credit_month  tariff_id   \n",
              "0   26031      M   24            UNM   24000,00            10       1.60  \\\n",
              "1  148877      M   23            UNM   16339,00            18       1.10   \n",
              "2  142019      M   54            UNM   15652,00            10       1.32   \n",
              "3  146816      F   52            UNM   16560,00            10       1.10   \n",
              "4   27699      F   63            WID    9078,00            18       1.10   \n",
              "\n",
              "  education  credit_count  overdue_credit_count job_pos credit_score   \n",
              "0       SCH           2.0                   0.0     SPC     0,728851  \\\n",
              "1       SCH           2.0                   0.0     SPC     0,347385   \n",
              "2       GRD           2.0                   0.0     SPC     0,349705   \n",
              "3       SCH           1.0                   0.0     SPC     0,359232   \n",
              "4       SCH           4.0                   0.0     SPC     0,529368   \n",
              "\n",
              "              region   income  opened  \n",
              "0  ОБЛ ЛЕНИНГРАДСКАЯ  35000.0    True  \n",
              "1           МОСКВА Г  38000.0    True  \n",
              "2     ОБЛ МОСКОВСКАЯ  38000.0    True  \n",
              "3      РЕСП МОРДОВИЯ  28000.0   False  \n",
              "4    ЧЕЛЯБИНСКАЯ ОБЛ  30000.0   False  "
            ]
          },
          "execution_count": 22,
          "metadata": {},
          "output_type": "execute_result"
        }
      ],
      "source": [
        "df.head()"
      ]
    },
    {
      "cell_type": "code",
      "execution_count": 23,
      "metadata": {
        "colab": {
          "base_uri": "https://localhost:8080/"
        },
        "id": "Qj0OAvH-LFaC",
        "outputId": "c19d9ca5-73f8-47ba-8f34-9f57521adc46"
      },
      "outputs": [
        {
          "data": {
            "text/plain": [
              "(114399, 15)"
            ]
          },
          "execution_count": 23,
          "metadata": {},
          "output_type": "execute_result"
        }
      ],
      "source": [
        "df.shape"
      ]
    },
    {
      "attachments": {},
      "cell_type": "markdown",
      "metadata": {
        "id": "-IgCfehoKQAb"
      },
      "source": [
        "Форматирование данных"
      ]
    },
    {
      "cell_type": "code",
      "execution_count": 24,
      "metadata": {
        "id": "U0j1A6HKKQAb"
      },
      "outputs": [],
      "source": [
        "df['education'] = df['education'].replace('SCH', '1')\n",
        "df['education'] = df['education'].replace('GRD', '2')\n",
        "df['education'] = df['education'].replace('UGR', '3')\n",
        "df['education'] = df['education'].replace('PGR', '4')\n",
        "df['education'] = df['education'].replace('ACD', '5')\n",
        "df['marital_status'] = df['marital_status'].replace('UNM', '1')\n",
        "df['marital_status'] = df['marital_status'].replace('WID', '2')\n",
        "df['marital_status'] = df['marital_status'].replace('MAR', '3')\n",
        "df['marital_status'] = df['marital_status'].replace('DIV', '4')\n",
        "df['marital_status'] = df['marital_status'].replace('CIV', '5')\n",
        "df['job_pos'] = df['job_pos'].replace('SPC', '1')\n",
        "df['job_pos'] = df['job_pos'].replace('UMN', '2')\n",
        "df['job_pos'] = df['job_pos'].replace('ATP', '3')\n",
        "df['job_pos'] = df['job_pos'].replace('BIS', '4')\n",
        "df['job_pos'] = df['job_pos'].replace('DIR', '5')\n",
        "df['job_pos'] = df['job_pos'].replace('PNA', '6')\n",
        "df['job_pos'] = df['job_pos'].replace('WRP', '7')\n",
        "df['job_pos'] = df['job_pos'].replace('WRK', '8')\n",
        "df['job_pos'] = df['job_pos'].replace('NOR', '9')\n",
        "df['job_pos'] = df['job_pos'].replace('BIU', '10')\n",
        "df['job_pos'] = df['job_pos'].replace('WOI', '11')\n",
        "df['job_pos'] = df['job_pos'].replace('INP', '12')\n",
        "df['job_pos'] = df['job_pos'].replace('HSK', '13')\n",
        "df['job_pos'] = df['job_pos'].replace('PNV', '14')\n",
        "df['job_pos'] = df['job_pos'].replace('PNI', '15')\n",
        "df['job_pos'] = df['job_pos'].replace('PNS', '16')\n",
        "df['job_pos'] = df['job_pos'].replace('ONB', '17')\n",
        "df['job_pos'] = df['job_pos'].replace('INV', '18')\n",
        "y_train = df['opened']\n",
        "X_train = df.drop(columns=['gender', 'region', 'opened'])#'marital_status', 'education', 'job_pos'\n",
        "X_train['credit_sum'] = X_train['credit_sum'].apply(lambda x: float(x.replace(',', '.')))\n",
        "X_train['credit_score'] = X_train['credit_score'].apply(lambda x: float(x.replace(',', '.')))\n",
        "X_train['education'] = X_train['education'].apply(lambda x: int(x))\n",
        "X_train['job_pos'] = X_train['job_pos'].apply(lambda x: int(x))\n",
        "X_train['marital_status'] = X_train['marital_status'].apply(lambda x: int(x))\n",
        "X_train['credit_score'] = X_train['credit_score'].apply(lambda x: int(x))\n",
        "X_train = X_train.fillna(-1)"
      ]
    },
    {
      "cell_type": "code",
      "execution_count": 25,
      "metadata": {
        "colab": {
          "base_uri": "https://localhost:8080/",
          "height": 424
        },
        "id": "70TvXCSC5GJt",
        "outputId": "00004b31-e1e7-43d4-8688-bdba3ead8ff0"
      },
      "outputs": [
        {
          "data": {
            "text/html": [
              "<div>\n",
              "<style scoped>\n",
              "    .dataframe tbody tr th:only-of-type {\n",
              "        vertical-align: middle;\n",
              "    }\n",
              "\n",
              "    .dataframe tbody tr th {\n",
              "        vertical-align: top;\n",
              "    }\n",
              "\n",
              "    .dataframe thead th {\n",
              "        text-align: right;\n",
              "    }\n",
              "</style>\n",
              "<table border=\"1\" class=\"dataframe\">\n",
              "  <thead>\n",
              "    <tr style=\"text-align: right;\">\n",
              "      <th></th>\n",
              "      <th>id</th>\n",
              "      <th>age</th>\n",
              "      <th>marital_status</th>\n",
              "      <th>credit_sum</th>\n",
              "      <th>credit_month</th>\n",
              "      <th>tariff_id</th>\n",
              "      <th>education</th>\n",
              "      <th>credit_count</th>\n",
              "      <th>overdue_credit_count</th>\n",
              "      <th>job_pos</th>\n",
              "      <th>credit_score</th>\n",
              "      <th>income</th>\n",
              "    </tr>\n",
              "  </thead>\n",
              "  <tbody>\n",
              "    <tr>\n",
              "      <th>0</th>\n",
              "      <td>26031</td>\n",
              "      <td>24</td>\n",
              "      <td>1</td>\n",
              "      <td>24000.0</td>\n",
              "      <td>10</td>\n",
              "      <td>1.60</td>\n",
              "      <td>1</td>\n",
              "      <td>2.0</td>\n",
              "      <td>0.0</td>\n",
              "      <td>1</td>\n",
              "      <td>0</td>\n",
              "      <td>35000.0</td>\n",
              "    </tr>\n",
              "    <tr>\n",
              "      <th>1</th>\n",
              "      <td>148877</td>\n",
              "      <td>23</td>\n",
              "      <td>1</td>\n",
              "      <td>16339.0</td>\n",
              "      <td>18</td>\n",
              "      <td>1.10</td>\n",
              "      <td>1</td>\n",
              "      <td>2.0</td>\n",
              "      <td>0.0</td>\n",
              "      <td>1</td>\n",
              "      <td>0</td>\n",
              "      <td>38000.0</td>\n",
              "    </tr>\n",
              "    <tr>\n",
              "      <th>2</th>\n",
              "      <td>142019</td>\n",
              "      <td>54</td>\n",
              "      <td>1</td>\n",
              "      <td>15652.0</td>\n",
              "      <td>10</td>\n",
              "      <td>1.32</td>\n",
              "      <td>2</td>\n",
              "      <td>2.0</td>\n",
              "      <td>0.0</td>\n",
              "      <td>1</td>\n",
              "      <td>0</td>\n",
              "      <td>38000.0</td>\n",
              "    </tr>\n",
              "    <tr>\n",
              "      <th>3</th>\n",
              "      <td>146816</td>\n",
              "      <td>52</td>\n",
              "      <td>1</td>\n",
              "      <td>16560.0</td>\n",
              "      <td>10</td>\n",
              "      <td>1.10</td>\n",
              "      <td>1</td>\n",
              "      <td>1.0</td>\n",
              "      <td>0.0</td>\n",
              "      <td>1</td>\n",
              "      <td>0</td>\n",
              "      <td>28000.0</td>\n",
              "    </tr>\n",
              "    <tr>\n",
              "      <th>4</th>\n",
              "      <td>27699</td>\n",
              "      <td>63</td>\n",
              "      <td>2</td>\n",
              "      <td>9078.0</td>\n",
              "      <td>18</td>\n",
              "      <td>1.10</td>\n",
              "      <td>1</td>\n",
              "      <td>4.0</td>\n",
              "      <td>0.0</td>\n",
              "      <td>1</td>\n",
              "      <td>0</td>\n",
              "      <td>30000.0</td>\n",
              "    </tr>\n",
              "    <tr>\n",
              "      <th>...</th>\n",
              "      <td>...</td>\n",
              "      <td>...</td>\n",
              "      <td>...</td>\n",
              "      <td>...</td>\n",
              "      <td>...</td>\n",
              "      <td>...</td>\n",
              "      <td>...</td>\n",
              "      <td>...</td>\n",
              "      <td>...</td>\n",
              "      <td>...</td>\n",
              "      <td>...</td>\n",
              "      <td>...</td>\n",
              "    </tr>\n",
              "    <tr>\n",
              "      <th>114394</th>\n",
              "      <td>119880</td>\n",
              "      <td>29</td>\n",
              "      <td>3</td>\n",
              "      <td>29678.0</td>\n",
              "      <td>10</td>\n",
              "      <td>1.60</td>\n",
              "      <td>2</td>\n",
              "      <td>1.0</td>\n",
              "      <td>0.0</td>\n",
              "      <td>1</td>\n",
              "      <td>0</td>\n",
              "      <td>25000.0</td>\n",
              "    </tr>\n",
              "    <tr>\n",
              "      <th>114395</th>\n",
              "      <td>103695</td>\n",
              "      <td>29</td>\n",
              "      <td>3</td>\n",
              "      <td>23068.0</td>\n",
              "      <td>15</td>\n",
              "      <td>1.10</td>\n",
              "      <td>2</td>\n",
              "      <td>3.0</td>\n",
              "      <td>0.0</td>\n",
              "      <td>1</td>\n",
              "      <td>0</td>\n",
              "      <td>30000.0</td>\n",
              "    </tr>\n",
              "    <tr>\n",
              "      <th>114396</th>\n",
              "      <td>131933</td>\n",
              "      <td>45</td>\n",
              "      <td>3</td>\n",
              "      <td>16418.0</td>\n",
              "      <td>10</td>\n",
              "      <td>1.10</td>\n",
              "      <td>1</td>\n",
              "      <td>1.0</td>\n",
              "      <td>0.0</td>\n",
              "      <td>2</td>\n",
              "      <td>0</td>\n",
              "      <td>30400.0</td>\n",
              "    </tr>\n",
              "    <tr>\n",
              "      <th>114397</th>\n",
              "      <td>146868</td>\n",
              "      <td>49</td>\n",
              "      <td>3</td>\n",
              "      <td>12169.0</td>\n",
              "      <td>10</td>\n",
              "      <td>1.40</td>\n",
              "      <td>1</td>\n",
              "      <td>1.0</td>\n",
              "      <td>0.0</td>\n",
              "      <td>1</td>\n",
              "      <td>0</td>\n",
              "      <td>16000.0</td>\n",
              "    </tr>\n",
              "    <tr>\n",
              "      <th>114398</th>\n",
              "      <td>121959</td>\n",
              "      <td>57</td>\n",
              "      <td>3</td>\n",
              "      <td>8579.0</td>\n",
              "      <td>10</td>\n",
              "      <td>1.10</td>\n",
              "      <td>1</td>\n",
              "      <td>4.0</td>\n",
              "      <td>0.0</td>\n",
              "      <td>4</td>\n",
              "      <td>0</td>\n",
              "      <td>30000.0</td>\n",
              "    </tr>\n",
              "  </tbody>\n",
              "</table>\n",
              "<p>114399 rows × 12 columns</p>\n",
              "</div>"
            ],
            "text/plain": [
              "            id  age  marital_status  credit_sum  credit_month  tariff_id   \n",
              "0        26031   24               1     24000.0            10       1.60  \\\n",
              "1       148877   23               1     16339.0            18       1.10   \n",
              "2       142019   54               1     15652.0            10       1.32   \n",
              "3       146816   52               1     16560.0            10       1.10   \n",
              "4        27699   63               2      9078.0            18       1.10   \n",
              "...        ...  ...             ...         ...           ...        ...   \n",
              "114394  119880   29               3     29678.0            10       1.60   \n",
              "114395  103695   29               3     23068.0            15       1.10   \n",
              "114396  131933   45               3     16418.0            10       1.10   \n",
              "114397  146868   49               3     12169.0            10       1.40   \n",
              "114398  121959   57               3      8579.0            10       1.10   \n",
              "\n",
              "        education  credit_count  overdue_credit_count  job_pos  credit_score   \n",
              "0               1           2.0                   0.0        1             0  \\\n",
              "1               1           2.0                   0.0        1             0   \n",
              "2               2           2.0                   0.0        1             0   \n",
              "3               1           1.0                   0.0        1             0   \n",
              "4               1           4.0                   0.0        1             0   \n",
              "...           ...           ...                   ...      ...           ...   \n",
              "114394          2           1.0                   0.0        1             0   \n",
              "114395          2           3.0                   0.0        1             0   \n",
              "114396          1           1.0                   0.0        2             0   \n",
              "114397          1           1.0                   0.0        1             0   \n",
              "114398          1           4.0                   0.0        4             0   \n",
              "\n",
              "         income  \n",
              "0       35000.0  \n",
              "1       38000.0  \n",
              "2       38000.0  \n",
              "3       28000.0  \n",
              "4       30000.0  \n",
              "...         ...  \n",
              "114394  25000.0  \n",
              "114395  30000.0  \n",
              "114396  30400.0  \n",
              "114397  16000.0  \n",
              "114398  30000.0  \n",
              "\n",
              "[114399 rows x 12 columns]"
            ]
          },
          "execution_count": 25,
          "metadata": {},
          "output_type": "execute_result"
        }
      ],
      "source": [
        "X_train"
      ]
    },
    {
      "attachments": {},
      "cell_type": "markdown",
      "metadata": {
        "id": "_HCNsLBGKQAc"
      },
      "source": [
        "Обучим модель"
      ]
    },
    {
      "cell_type": "code",
      "execution_count": null,
      "metadata": {
        "id": "By9dPZWGKQAc"
      },
      "outputs": [],
      "source": [
        "clf = RandomForestClassifier(n_estimators=31, max_depth=31)\n",
        "print(cross_val_score(clf, X_train, y_train, cv=5, scoring='f1').mean())\n",
        "clf.fit(X_train, y_train)"
      ]
    },
    {
      "cell_type": "code",
      "execution_count": null,
      "metadata": {
        "colab": {
          "base_uri": "https://localhost:8080/",
          "height": 92
        },
        "id": "Ox4G-UezSoY9",
        "outputId": "83828bd0-c352-4b80-900f-60b2391d88ed"
      },
      "outputs": [],
      "source": [
        "'''lgbm = lightgbm.LGBMClassifier(n_estimators=1000, max_depth=400)\n",
        "print(cross_val_score(lgbm, X_train, y_train, scoring='f1').mean())\n",
        "lgbm.fit(X_train, y_train)'''"
      ]
    },
    {
      "cell_type": "code",
      "execution_count": 27,
      "metadata": {
        "colab": {
          "base_uri": "https://localhost:8080/"
        },
        "id": "MqZlXLL4I7Ws",
        "outputId": "0e5f2481-29d7-4eda-9d30-a9c8bcf8f144"
      },
      "outputs": [
        {
          "data": {
            "text/plain": [
              "<catboost.core.CatBoostClassifier at 0x1158be0b5d0>"
            ]
          },
          "execution_count": 27,
          "metadata": {},
          "output_type": "execute_result"
        }
      ],
      "source": [
        "from catboost import CatBoostClassifier, Pool\n",
        "\n",
        "\n",
        "train_data = Pool(X_train, y_train)\n",
        "model = CatBoostClassifier(iterations=1000, max_depth=12, verbose=False)\n",
        "model.fit(train_data)\n",
        "\n",
        "model.save_model(\"model\")\n",
        "from_file = CatBoostClassifier()\n",
        "from_file.load_model(\"model\")"
      ]
    },
    {
      "attachments": {},
      "cell_type": "markdown",
      "metadata": {
        "id": "I5tGNbM7KQAc"
      },
      "source": [
        "Считаем тестовую выборку и предскажем ответы для нее"
      ]
    },
    {
      "cell_type": "code",
      "execution_count": 28,
      "metadata": {
        "colab": {
          "base_uri": "https://localhost:8080/",
          "height": 206
        },
        "id": "jHGsyPO8KQAc",
        "outputId": "1b00f3ca-0d9f-4246-a4b9-ab91c932250b"
      },
      "outputs": [
        {
          "data": {
            "text/html": [
              "<div>\n",
              "<style scoped>\n",
              "    .dataframe tbody tr th:only-of-type {\n",
              "        vertical-align: middle;\n",
              "    }\n",
              "\n",
              "    .dataframe tbody tr th {\n",
              "        vertical-align: top;\n",
              "    }\n",
              "\n",
              "    .dataframe thead th {\n",
              "        text-align: right;\n",
              "    }\n",
              "</style>\n",
              "<table border=\"1\" class=\"dataframe\">\n",
              "  <thead>\n",
              "    <tr style=\"text-align: right;\">\n",
              "      <th></th>\n",
              "      <th>id</th>\n",
              "      <th>gender</th>\n",
              "      <th>age</th>\n",
              "      <th>marital_status</th>\n",
              "      <th>credit_sum</th>\n",
              "      <th>credit_month</th>\n",
              "      <th>tariff_id</th>\n",
              "      <th>education</th>\n",
              "      <th>credit_count</th>\n",
              "      <th>overdue_credit_count</th>\n",
              "      <th>job_pos</th>\n",
              "      <th>credit_score</th>\n",
              "      <th>region</th>\n",
              "      <th>income</th>\n",
              "    </tr>\n",
              "  </thead>\n",
              "  <tbody>\n",
              "    <tr>\n",
              "      <th>0</th>\n",
              "      <td>39162</td>\n",
              "      <td>F</td>\n",
              "      <td>18</td>\n",
              "      <td>1</td>\n",
              "      <td>39469,00</td>\n",
              "      <td>6</td>\n",
              "      <td>1.44</td>\n",
              "      <td>2</td>\n",
              "      <td>NaN</td>\n",
              "      <td>NaN</td>\n",
              "      <td>1</td>\n",
              "      <td>0,424628</td>\n",
              "      <td>САНКТ-ПЕТЕРБУРГ Г</td>\n",
              "      <td>30000.0</td>\n",
              "    </tr>\n",
              "    <tr>\n",
              "      <th>1</th>\n",
              "      <td>10673</td>\n",
              "      <td>F</td>\n",
              "      <td>63</td>\n",
              "      <td>2</td>\n",
              "      <td>16693,00</td>\n",
              "      <td>10</td>\n",
              "      <td>1.32</td>\n",
              "      <td>2</td>\n",
              "      <td>2.0</td>\n",
              "      <td>0.0</td>\n",
              "      <td>1</td>\n",
              "      <td>0,311945</td>\n",
              "      <td>ОБЛ ЛЕНИНГРАДСКАЯ</td>\n",
              "      <td>21250.0</td>\n",
              "    </tr>\n",
              "    <tr>\n",
              "      <th>2</th>\n",
              "      <td>121409</td>\n",
              "      <td>M</td>\n",
              "      <td>42</td>\n",
              "      <td>3</td>\n",
              "      <td>60260,00</td>\n",
              "      <td>10</td>\n",
              "      <td>1.10</td>\n",
              "      <td>2</td>\n",
              "      <td>5.0</td>\n",
              "      <td>0.0</td>\n",
              "      <td>1</td>\n",
              "      <td>0,421982</td>\n",
              "      <td>МОСКВА Г</td>\n",
              "      <td>150000.0</td>\n",
              "    </tr>\n",
              "    <tr>\n",
              "      <th>3</th>\n",
              "      <td>23504</td>\n",
              "      <td>M</td>\n",
              "      <td>41</td>\n",
              "      <td>3</td>\n",
              "      <td>32479,00</td>\n",
              "      <td>12</td>\n",
              "      <td>1.10</td>\n",
              "      <td>2</td>\n",
              "      <td>1.0</td>\n",
              "      <td>0.0</td>\n",
              "      <td>5</td>\n",
              "      <td>0,406572</td>\n",
              "      <td>ТАТАРСТАН РЕСП</td>\n",
              "      <td>150000.0</td>\n",
              "    </tr>\n",
              "    <tr>\n",
              "      <th>4</th>\n",
              "      <td>69269</td>\n",
              "      <td>F</td>\n",
              "      <td>24</td>\n",
              "      <td>1</td>\n",
              "      <td>8159,00</td>\n",
              "      <td>12</td>\n",
              "      <td>1.10</td>\n",
              "      <td>1</td>\n",
              "      <td>2.0</td>\n",
              "      <td>0.0</td>\n",
              "      <td>1</td>\n",
              "      <td>0,418243</td>\n",
              "      <td>ТВЕРСКАЯ ОБЛ</td>\n",
              "      <td>16000.0</td>\n",
              "    </tr>\n",
              "  </tbody>\n",
              "</table>\n",
              "</div>"
            ],
            "text/plain": [
              "       id gender  age marital_status credit_sum  credit_month  tariff_id   \n",
              "0   39162      F   18              1   39469,00             6       1.44  \\\n",
              "1   10673      F   63              2   16693,00            10       1.32   \n",
              "2  121409      M   42              3   60260,00            10       1.10   \n",
              "3   23504      M   41              3   32479,00            12       1.10   \n",
              "4   69269      F   24              1    8159,00            12       1.10   \n",
              "\n",
              "  education  credit_count  overdue_credit_count job_pos credit_score   \n",
              "0         2           NaN                   NaN       1     0,424628  \\\n",
              "1         2           2.0                   0.0       1     0,311945   \n",
              "2         2           5.0                   0.0       1     0,421982   \n",
              "3         2           1.0                   0.0       5     0,406572   \n",
              "4         1           2.0                   0.0       1     0,418243   \n",
              "\n",
              "              region    income  \n",
              "0  САНКТ-ПЕТЕРБУРГ Г   30000.0  \n",
              "1  ОБЛ ЛЕНИНГРАДСКАЯ   21250.0  \n",
              "2           МОСКВА Г  150000.0  \n",
              "3     ТАТАРСТАН РЕСП  150000.0  \n",
              "4       ТВЕРСКАЯ ОБЛ   16000.0  "
            ]
          },
          "execution_count": 28,
          "metadata": {},
          "output_type": "execute_result"
        }
      ],
      "source": [
        "df_test = pd.read_csv('credit_test.csv')\n",
        "df_test['education'] = df_test['education'].replace('SCH', '1')\n",
        "df_test['education'] = df_test['education'].replace('GRD', '2')\n",
        "df_test['education'] = df_test['education'].replace('UGR', '3')\n",
        "df_test['education'] = df_test['education'].replace('PGR', '4')\n",
        "df_test['education'] = df_test['education'].replace('ACD', '5')\n",
        "df_test['marital_status'] = df_test['marital_status'].replace('UNM', '1')\n",
        "df_test['marital_status'] = df_test['marital_status'].replace('WID', '2')\n",
        "df_test['marital_status'] = df_test['marital_status'].replace('MAR', '3')\n",
        "df_test['marital_status'] = df_test['marital_status'].replace('DIV', '4')\n",
        "df_test['marital_status'] = df_test['marital_status'].replace('CIV', '5')\n",
        "df_test['job_pos'] = df_test['job_pos'].replace('SPC', '1')\n",
        "df_test['job_pos'] = df_test['job_pos'].replace('UMN', '2')\n",
        "df_test['job_pos'] = df_test['job_pos'].replace('ATP', '3')\n",
        "df_test['job_pos'] = df_test['job_pos'].replace('BIS', '4')\n",
        "df_test['job_pos'] = df_test['job_pos'].replace('DIR', '5')\n",
        "df_test['job_pos'] = df_test['job_pos'].replace('PNA', '6')\n",
        "df_test['job_pos'] = df_test['job_pos'].replace('WRP', '7')\n",
        "df_test['job_pos'] = df_test['job_pos'].replace('WRK', '8')\n",
        "df_test['job_pos'] = df_test['job_pos'].replace('NOR', '9')\n",
        "df_test['job_pos'] = df_test['job_pos'].replace('BIU', '10')\n",
        "df_test['job_pos'] = df_test['job_pos'].replace('WOI', '11')\n",
        "df_test['job_pos'] = df_test['job_pos'].replace('INP', '12')\n",
        "df_test['job_pos'] = df_test['job_pos'].replace('HSK', '13')\n",
        "df_test['job_pos'] = df_test['job_pos'].replace('PNV', '14')\n",
        "df_test['job_pos'] = df_test['job_pos'].replace('PNI', '15')\n",
        "df_test['job_pos'] = df_test['job_pos'].replace('PNS', '16')\n",
        "df_test['job_pos'] = df_test['job_pos'].replace('ONB', '17')\n",
        "df_test['job_pos'] = df_test['job_pos'].replace('INV', '18')\n",
        "df_test.head()\n"
      ]
    },
    {
      "attachments": {},
      "cell_type": "markdown",
      "metadata": {
        "id": "ebB02NizKQAc"
      },
      "source": [
        "Удалим колонки с которыми мы не работаем, как и на тренировочной выборке"
      ]
    },
    {
      "cell_type": "code",
      "execution_count": 29,
      "metadata": {
        "id": "cEOEAobLKQAc"
      },
      "outputs": [],
      "source": [
        "X_test = df_test.drop(columns=['gender', 'region'])#'marital_status', 'education', 'job_pos'\n",
        "X_test['credit_sum'] = X_test['credit_sum'].apply(lambda x: float(x.replace(',', '.')))\n",
        "X_test['credit_score'] = X_test['credit_score'].apply(lambda x: float(x.replace(',', '.')))\n",
        "X_test['education'] = X_test['education'].apply(lambda x: int(x))\n",
        "X_test['job_pos'] = X_test['job_pos'].apply(lambda x: int(x))\n",
        "X_test['marital_status'] = X_test['marital_status'].apply(lambda x: int(x))\n",
        "X_test['credit_score'] = X_test['credit_score'].apply(lambda x: int(x))\n",
        "X_test = X_test.fillna(-1)"
      ]
    },
    {
      "attachments": {},
      "cell_type": "markdown",
      "metadata": {
        "id": "LbL5xi0kKQAd"
      },
      "source": [
        "Предскажем значения для тестовой выборки"
      ]
    },
    {
      "cell_type": "code",
      "execution_count": 30,
      "metadata": {
        "id": "FsgS5RYZKQAd"
      },
      "outputs": [],
      "source": [
        "y_pred = model.predict(X_test)#aaaaaaaaaaaaaaaaaaaaaaaaaaaaaaaaaaaaaaaaaaaaaaaaaaa"
      ]
    },
    {
      "cell_type": "code",
      "execution_count": 31,
      "metadata": {
        "colab": {
          "base_uri": "https://localhost:8080/"
        },
        "id": "Qm6p1cL8KQAd",
        "outputId": "c6ecb693-9fdb-4c45-e8c3-af4a9c66daab"
      },
      "outputs": [
        {
          "data": {
            "text/plain": [
              "array(['False', 'False', 'False', ..., 'False', 'False', 'False'],\n",
              "      dtype=object)"
            ]
          },
          "execution_count": 31,
          "metadata": {},
          "output_type": "execute_result"
        }
      ],
      "source": [
        "y_pred"
      ]
    },
    {
      "cell_type": "code",
      "execution_count": 32,
      "metadata": {},
      "outputs": [
        {
          "data": {
            "text/plain": [
              "array(['False', 'False', 'False', ..., 'False', 'False', 'False'],\n",
              "      dtype=object)"
            ]
          },
          "execution_count": 32,
          "metadata": {},
          "output_type": "execute_result"
        }
      ],
      "source": [
        "y_pred"
      ]
    },
    {
      "attachments": {},
      "cell_type": "markdown",
      "metadata": {
        "id": "HqrHR3eJKQAd"
      },
      "source": [
        "Создадим отдельный датасет для отправки на kaggle. \n",
        "\n",
        "Данный датасет будет содержать только два необходимых столбца — id и наш ответ."
      ]
    },
    {
      "cell_type": "code",
      "execution_count": 33,
      "metadata": {
        "colab": {
          "base_uri": "https://localhost:8080/",
          "height": 310
        },
        "id": "LbKrhYQJKQAd",
        "outputId": "c79f0b9e-f0e0-4ac8-8e2c-b7ee8862a0d0"
      },
      "outputs": [
        {
          "name": "stderr",
          "output_type": "stream",
          "text": [
            "C:\\Users\\Никита\\AppData\\Local\\Temp\\ipykernel_10216\\1716018407.py:2: SettingWithCopyWarning: \n",
            "A value is trying to be set on a copy of a slice from a DataFrame.\n",
            "Try using .loc[row_indexer,col_indexer] = value instead\n",
            "\n",
            "See the caveats in the documentation: https://pandas.pydata.org/pandas-docs/stable/user_guide/indexing.html#returning-a-view-versus-a-copy\n",
            "  df_kaggle['opened'] = y_pred.astype(bool)\n"
          ]
        },
        {
          "data": {
            "text/html": [
              "<div>\n",
              "<style scoped>\n",
              "    .dataframe tbody tr th:only-of-type {\n",
              "        vertical-align: middle;\n",
              "    }\n",
              "\n",
              "    .dataframe tbody tr th {\n",
              "        vertical-align: top;\n",
              "    }\n",
              "\n",
              "    .dataframe thead th {\n",
              "        text-align: right;\n",
              "    }\n",
              "</style>\n",
              "<table border=\"1\" class=\"dataframe\">\n",
              "  <thead>\n",
              "    <tr style=\"text-align: right;\">\n",
              "      <th></th>\n",
              "      <th>id</th>\n",
              "      <th>opened</th>\n",
              "    </tr>\n",
              "  </thead>\n",
              "  <tbody>\n",
              "    <tr>\n",
              "      <th>0</th>\n",
              "      <td>39162</td>\n",
              "      <td>True</td>\n",
              "    </tr>\n",
              "    <tr>\n",
              "      <th>1</th>\n",
              "      <td>10673</td>\n",
              "      <td>True</td>\n",
              "    </tr>\n",
              "    <tr>\n",
              "      <th>2</th>\n",
              "      <td>121409</td>\n",
              "      <td>True</td>\n",
              "    </tr>\n",
              "    <tr>\n",
              "      <th>3</th>\n",
              "      <td>23504</td>\n",
              "      <td>True</td>\n",
              "    </tr>\n",
              "    <tr>\n",
              "      <th>4</th>\n",
              "      <td>69269</td>\n",
              "      <td>True</td>\n",
              "    </tr>\n",
              "  </tbody>\n",
              "</table>\n",
              "</div>"
            ],
            "text/plain": [
              "       id  opened\n",
              "0   39162    True\n",
              "1   10673    True\n",
              "2  121409    True\n",
              "3   23504    True\n",
              "4   69269    True"
            ]
          },
          "execution_count": 33,
          "metadata": {},
          "output_type": "execute_result"
        }
      ],
      "source": [
        "df_kaggle = df_test[['id',]]\n",
        "df_kaggle['opened'] = y_pred.astype(bool)\n",
        "df_kaggle.head()"
      ]
    },
    {
      "attachments": {},
      "cell_type": "markdown",
      "metadata": {
        "id": "Ld1IFHOxKQAe"
      },
      "source": [
        "Сохраним полученный результат в .csv файл для отправки на kaggle"
      ]
    },
    {
      "cell_type": "code",
      "execution_count": 19,
      "metadata": {
        "id": "_nyFnswCKQAe"
      },
      "outputs": [],
      "source": [
        "df_kaggle.to_csv('my_submission.csv', index=False)"
      ]
    }
  ],
  "metadata": {
    "colab": {
      "provenance": []
    },
    "kernelspec": {
      "display_name": "Python 3",
      "language": "python",
      "name": "python3"
    },
    "language_info": {
      "codemirror_mode": {
        "name": "ipython",
        "version": 3
      },
      "file_extension": ".py",
      "mimetype": "text/x-python",
      "name": "python",
      "nbconvert_exporter": "python",
      "pygments_lexer": "ipython3",
      "version": "3.11.3"
    }
  },
  "nbformat": 4,
  "nbformat_minor": 0
}
