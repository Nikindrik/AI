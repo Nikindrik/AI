{
  "cells": [
    {
      "cell_type": "markdown",
      "metadata": {
        "id": "SkuGXbB75UdY"
      },
      "source": [
        "# Композиция алгоритмов\n"
      ]
    },
    {
      "cell_type": "code",
      "source": [
        "from tkinter import *\n",
        "import tkinter.ttk as ttk\n",
        "from tkinter import messagebox # Всплывающие окна\n",
        "import urllib.request\n",
        "import datetime\n",
        "import calendar\n",
        "import xml.dom.minidom\n",
        "from datetime import *\n",
        "import xml.etree.ElementTree as ET\n",
        "import matplotlib.pyplot as plt\n",
        "from matplotlib.backends.backend_tkagg import FigureCanvasTkAgg\n",
        "import matplotlib # Построение графиков\n",
        "\n",
        "def parse_xaml_from_url(url):\n",
        "    result = []\n",
        "    current_date = datetime.now().strftime(\"%d/%m/%Y\") # Получаем текущую дату\n",
        "    if not url: #  Формируем URL с текущей датой, если URL не был указан\n",
        "        url = f\"https://www.cbr.ru/scripts/XML_daily.asp?date_req={current_date}\"\n",
        "    try:\n",
        "        response = urllib.request.urlopen(url) #  Получаем данные по указанному URL\n",
        "        data = response.read()\n",
        "        dom_tree = xml.dom.minidom.parseString(data) #  Преобразуем данные в DOM-дерево XML\n",
        "        root = dom_tree.documentElement #  Получаем корневой элемент\n",
        "        valute_elements = root.getElementsByTagName('Valute') #  Получаем все элементы 'Valute'\n",
        "        for valute_element in valute_elements:  # Проходимся по каждому элементу 'Valute'\n",
        "            valute_id = valute_element.getAttribute('ID')  # Получаем значение атрибута 'ID'\n",
        "            name = valute_element.getElementsByTagName('Name')[0].firstChild.data  # Получаем значение элемента 'Name'\n",
        "            value = valute_element.getElementsByTagName('Value')[0].firstChild.data  # Получаем значение элемента 'Value'\n",
        "            result.append({\"ID\": valute_id, \"Name\": name, \"Value\": value})\n",
        "        return result\n",
        "    except Exception as e:\n",
        "        print(\"An error occurred:\", e)\n",
        "\n",
        "def parse_xaml_from_url_name_with_value(url):\n",
        "    result = []\n",
        "    current_date = datetime.now().strftime(\"%d/%m/%Y\") # Получаем текущую дату\n",
        "    if not url: # Формируем URL с текущей датой, если URL не был указан\n",
        "        url = f\"https://www.cbr.ru/scripts/XML_daily.asp?date_req={current_date}\"\n",
        "    try:\n",
        "        response = urllib.request.urlopen(url) #  Получаем данные по указанному URL\n",
        "        data = response.read()\n",
        "        dom_tree = xml.dom.minidom.parseString(data) #  Преобразуем данные в DOM-дерево XML\n",
        "        root = dom_tree.documentElement #  Получаем корневой элемент\n",
        "        valute_elements = root.getElementsByTagName('Valute') #  Получаем все элементы 'Valute'\n",
        "        for valute_element in valute_elements:  # Проходимся по каждому элементу 'Valute'\n",
        "            name = valute_element.getElementsByTagName('Name')[0].firstChild.data  # Получаем значение элемента 'Name'\n",
        "            value = valute_element.getElementsByTagName('Value')[0].firstChild.data  # Получаем значение элемента 'Value'\n",
        "            result.append({name, value})\n",
        "        return result\n",
        "    except Exception as e:\n",
        "        messagebox.showwarning(\"Ошибка\", e)\n",
        "\n",
        "def parse_xaml_from_url_name(url):\n",
        "    result = []\n",
        "    current_date = datetime.now().strftime(\"%d/%m/%Y\") # Получаем текущую дату\n",
        "    if not url: # Формируем URL с текущей датой, если URL не был указан\n",
        "        url = f\"https://www.cbr.ru/scripts/XML_daily.asp?date_req={current_date}\"\n",
        "    try:\n",
        "        response = urllib.request.urlopen(url) #  Получаем данные по указанному URL\n",
        "        data = response.read()\n",
        "        dom_tree = xml.dom.minidom.parseString(data) #  Преобразуем данные в DOM-дерево XML\n",
        "        root = dom_tree.documentElement #  Получаем корневой элемент\n",
        "        valute_elements = root.getElementsByTagName('Valute') #  Получаем все элементы 'Valute'\n",
        "        for valute_element in valute_elements:  # Проходимся по каждому элементу 'Valute'\n",
        "            name = valute_element.getElementsByTagName('Name')[0].firstChild.data  # Получаем значение элемента 'Name'\n",
        "            result.append(name)\n",
        "        return result\n",
        "    except Exception as e:\n",
        "        print(\"An error occurred:\", e)\n",
        "\n",
        "\n",
        "def get_currency_rate(currency_code, datee):\n",
        "    url = f\"https://www.cbr.ru/scripts/XML_daily.asp?date_req={datee}\"\n",
        "    # Откурытие и чтение данных\n",
        "    with urllib.request.urlopen(url) as url:\n",
        "        xml = url.read()\n",
        "    root = ET.fromstring(xml)\n",
        "    # Поиск итератора для всех элементов\n",
        "    for valute in root.findall(\"Valute\"):\n",
        "        # Проверка на существование валюты по коду\n",
        "        if valute.find(\"CharCode\").text == currency_code:\n",
        "            return float(valute.find(\"Value\").text.replace(\",\", \".\")) / float(valute.find(\"Nominal\").text)\n",
        "\n",
        "window = Tk()  # При создании объекта класса ТК запускается интерпретатор и создаётся базовое окно приложения\n",
        "window.title(\"Конвертер валют\")  # Название окна\n",
        "window.geometry(\"1680x1050\")  # Размеры окна\n",
        "tab_control = ttk.Notebook(window)  # Виджет управления вкладками\n",
        "tab1 = ttk.Frame(tab_control)  # Виджет рамки Калькулятор валют\n",
        "tab2 = ttk.Frame(tab_control)  # Виджет рамки Динамика курса\n",
        "tab_control.add(tab1, text=\"Калькулятор валют\")\n",
        "tab_control.add(tab2, text=\"Динамика курса\")\n",
        "urls = [\"https://www.cbr.ru/scripts/XML_daily.asp?date_req=22/04/2024\",\n",
        "        \"https://www.cbr.ru/scripts/XML_daily.asp?date_req=22/04/2023\",\n",
        "        \"https://www.cbr.ru/scripts/XML_daily.asp?date_req=22/04/2022\",\n",
        "        \"https://www.cbr.ru/scripts/XML_daily.asp?date_req=22/04/2021\"]\n",
        "\n",
        "# ------------------------------------------------------------------------------------------------------------------\n",
        "value_from = ttk.Combobox(tab1, width=44)  # Создание комбобокса на первой вкладке, можно добавить аргументы, например ширину\n",
        "value_from[\"values\"] = parse_xaml_from_url_name(urls[0])\n",
        "value_from.grid(column=0, row=0, padx=10, pady=10)  # Размещение в окне, указана позиция, можно указать отступы\n",
        "\n",
        "value_to = ttk.Combobox(tab1, width=44)\n",
        "value_to[\"values\"] = parse_xaml_from_url_name(urls[0])\n",
        "value_to.grid(column=0, row=1, padx=10, pady=15)\n",
        "\n",
        "txt_value_from = Entry(tab1, text=\"\") # Текстовое поле для ввода\n",
        "txt_value_from.grid(column=1, row=0, pady=15)\n",
        "\n",
        "value_to_label = Label(tab1, text=\"\")  # Надпись\n",
        "value_to_label.grid(column=1, row=1, pady=15)\n",
        "\n",
        "def btn_convert_click():\n",
        "    try:\n",
        "        comparison_dict = parse_xaml_from_url_name_with_value(urls[0])\n",
        "        result_list = [[item.pop(), item.pop()] for item in comparison_dict]\n",
        "        for i in range(len(result_list)):\n",
        "            if result_list[i][0][0] in '0123456789':\n",
        "                result_list[i][0], result_list[i][1] = result_list[i][1], result_list[i][0]\n",
        "            result_list[i][1] = float(result_list[i][1].replace(',', '.'))\n",
        "\n",
        "        kurs_from, kurs_to = 0, 0\n",
        "        for elem in result_list:\n",
        "            if elem[0] == value_from.get():\n",
        "                kurs_from = elem[1]\n",
        "            if elem[0] == value_to.get():\n",
        "                kurs_to = elem[1]\n",
        "            if kurs_from != 0 and kurs_to != 0:\n",
        "                break\n",
        "        conv_kurs = round(((1 / kurs_to) * kurs_from) * float(txt_value_from.get()))\n",
        "        value_to_label.configure(text=str(conv_kurs))\n",
        "    except:\n",
        "        messagebox.showwarning(\"Ошибка\", \"Не корректеые данные\")\n",
        "\n",
        "btn_convert = Button(tab1, text=\"Конвертировать\", command=btn_convert_click)  # Кнопка, действие реализуется в функции\n",
        "btn_convert.grid(column=2, row=0, padx=10, pady=15)\n",
        "# ------------------------------------------------------------------------------------------------------------------\n",
        "# Получение текущей даты, месяца и года\n",
        "day = str(datetime.today().day)\n",
        "month = str(datetime.today().month)\n",
        "year = str(datetime.today().year)\n",
        "# Добавление нуля к однозначному числу дня и месяца, если необходимо\n",
        "if len(day) == 1:\n",
        "    day = \"0\" + day\n",
        "if len(month) == 1:\n",
        "    month = \"0\" + month\n",
        "url = f\"https://www.cbr.ru/scripts/XML_daily.asp?date_req={day}/{month}/{year}\"\n",
        "# Отправка запроса на сервер Центрального банка России и чтение ответа в формате XML\n",
        "response = urllib.request.urlopen(url)\n",
        "xml = response.read()\n",
        "# Преобразование XML-данных в объект ElementTree\n",
        "root = ET.fromstring(xml)\n",
        "# Получение даты курса валют из атрибута Date\n",
        "Kurs_date = root.get('Date')\n",
        "# Списки хранения о курсах валют\n",
        "CharCode = [\"RU\"]\n",
        "Nominal = [\"1\"]\n",
        "Name = [\"Российский рубль\"]\n",
        "Value = [\"1\"]\n",
        "\n",
        "# Получение информации о курсах валют из XML-данных\n",
        "for valute in root.findall(\"Valute\"):\n",
        "    CharCode.append(valute.find(\"CharCode\").text)\n",
        "    Nominal.append(valute.find(\"Nominal\").text)\n",
        "    Name.append(valute.find(\"Name\").text)\n",
        "    Value.append(valute.find(\"Value\").text)\n",
        "\n",
        "# Добавление информации о курсах валют в списки Name и Value\n",
        "for i in range(len(Name)):\n",
        "    Name[i] = f\"({CharCode[i]})\" + Name[i]\n",
        "    if Nominal[i] != 1:\n",
        "        Value[i] = round(float(Value[i].replace(',', '.')) / float(Nominal[i]), 10)\n",
        "\n",
        "# ==================================================================================================================\n",
        "\n",
        "value_to_label_name = Label(tab2, text=\"Валюта\")  # Надпись\n",
        "value_to_label_name.grid(column=0, row=0, padx=10, pady=10)\n",
        "# Создание комбобокса для выбора валюты\n",
        "val_c = ttk.Combobox(tab2, width=44)\n",
        "val_c[\"values\"] = parse_xaml_from_url_name(urls[0])\n",
        "val_c.grid(column=0, row=1, padx=10, pady=5)\n",
        "\n",
        "# Создание метки Период\n",
        "text_b = Label(tab2, text=\"Период\")\n",
        "text_b.grid(column=1, row=0)\n",
        "\n",
        "\n",
        "#ДАты\n",
        "# Определение текущей даты\n",
        "today = datetime.today().date()\n",
        "week_ago = today - timedelta(days=7)\n",
        "tw_weeks_ago = week_ago - timedelta(days=7)\n",
        "th_weeks_ago = tw_weeks_ago - timedelta(days=7)\n",
        "f_weeks_ago = th_weeks_ago - timedelta(days=7)\n",
        "# Преобразование дат в строковый формат\n",
        "today_str = today.strftime(\"%d.%m.%Y\")\n",
        "week_ago_str = week_ago.strftime(\"%d.%m.%Y\")\n",
        "tw_week_ago_str = tw_weeks_ago.strftime(\"%d.%m.%Y\")\n",
        "th_week_ago_str = th_weeks_ago.strftime(\"%d.%m.%Y\")\n",
        "f_week_ago_str = f_weeks_ago.strftime(\"%d.%m.%Y\")\n",
        "\n",
        "# Формирование списка значений для комбобокса 1 в Динамика\n",
        "comb1_val = [f\"{week_ago_str} - {today_str}\", f\"{tw_week_ago_str} - {week_ago_str}\",\n",
        "            f\"{th_week_ago_str} - {tw_week_ago_str}\", f\"{f_week_ago_str} - {th_week_ago_str}\"]\n",
        "# Функция для обработки выбора радиокнопки\n",
        "def handle_radio_selection(pos=False):\n",
        "    selected_radio = radio_var.get()\n",
        "    if selected_radio == 1 and pos:\n",
        "        return 1\n",
        "    elif selected_radio == 2 and pos:\n",
        "        return 2\n",
        "    elif selected_radio == 3 and pos:\n",
        "        return 3\n",
        "    elif selected_radio == 4 and pos:\n",
        "        return 4\n",
        "\n",
        "    if selected_radio == 1:\n",
        "        period_combobox['values'] = comb1_val\n",
        "    elif selected_radio == 2:\n",
        "        period_combobox['values'] = [\"Май 2024\", \"Апрель 2024\", \"Март 2024\", \"Февраль 2024\"]\n",
        "    elif selected_radio == 3:\n",
        "        period_combobox['values'] = [\"1 квартал, год 2024\", \"2 квартал, год 2024\", \"3 квартал, год 2024\", \"4 квартал, год 2024\"]\n",
        "    elif selected_radio == 4:\n",
        "        period_combobox['values'] = [\"2023\", \"2022\", \"2021\", \"2020\"]\n",
        "\n",
        "\n",
        "# Переменная для хранения выбранного значения радиокнопки\n",
        "radio_var = IntVar()\n",
        "\n",
        "# Создание радиокнопок\n",
        "radio1 = ttk.Radiobutton(tab2, text=\"Недели\", variable=radio_var, value=1, command=handle_radio_selection)\n",
        "radio1.grid(column=1, row=1, padx=10, pady=10)\n",
        "radio2 = ttk.Radiobutton(tab2, text=\"Месяцы\", variable=radio_var, value=2, command=handle_radio_selection)\n",
        "radio2.grid(column=1, row=2, padx=10, pady=10)\n",
        "radio3 = ttk.Radiobutton(tab2, text=\"Кварталы\", variable=radio_var, value=3, command=handle_radio_selection)\n",
        "radio3.grid(column=1, row=3, padx=10, pady=10)\n",
        "radio4 = ttk.Radiobutton(tab2, text=\"Года\", variable=radio_var, value=4, command=handle_radio_selection)\n",
        "radio4.grid(column=1, row=4, padx=10, pady=10)\n",
        "\n",
        "# Создание комбинированного выпадающего списка (Combobox)\n",
        "day = str(datetime.today().day)\n",
        "month = str(datetime.today().month)\n",
        "year = str(datetime.today().year)\n",
        "today = datetime.today()\n",
        "year = [str(today.year - i) for i in range(4)]\n",
        "period_combobox = ttk.Combobox(tab2)\n",
        "period_combobox.grid(column=2, row=1, padx=10, pady=10)\n",
        "print(handle_radio_selection())\n",
        "# Создание графика\n",
        "def graf_create():\n",
        "    #try:\n",
        "    # Поиск кода выбранной валюты\n",
        "    for i in range(len(Name)):\n",
        "        if period_combobox.get() == Name[i]:\n",
        "            currency_code = CharCode[i]\n",
        "    # Создание пустых списков дат и валюьты\n",
        "    dates = []\n",
        "    rates = []\n",
        "    # Проверка выбранного периода и формирование дат\n",
        "    if period_combobox.get() != \"\" and handle_radio_selection(True) == 1:\n",
        "        period = period_combobox.get()\n",
        "        start_date, end_date = period.split(\" - \")\n",
        "        start_date = datetime.strptime(start_date, \"%d.%m.%Y\").date()\n",
        "        end_date = datetime.strptime(end_date, \"%d.%m.%Y\").date()\n",
        "    elif period_combobox.get() != \"\" and handle_radio_selection(True) == 2:\n",
        "        month, year = period_combobox.get().split(\" \")\n",
        "        month_number = list(calendar.month_name).index(month)\n",
        "        start_date = datetime.date(int(year), month_number, 1)\n",
        "        end_date = datetime.date(int(year), month_number, calendar.monthrange(int(year), month_number)[1])\n",
        "    elif period_combobox.get() != \"\" and handle_radio_selection(True) == 3:\n",
        "        quarter, year = period_combobox.get().split(\", год \")\n",
        "        quarter_number = int(quarter.split()[1])\n",
        "        start_date = datetime.date(int(year), 3 * (quarter_number - 1) + 1, 1)\n",
        "        end_date = datetime.date(int(year), 3 * quarter_number,\n",
        "                                calendar.monthrange(int(year), 3 * quarter_number)[1])\n",
        "    elif period_combobox.get() != \"\" and handle_radio_selection(True) == 4:\n",
        "        year = int(period_combobox.get())\n",
        "        start_date = datetime.datetime(int(period_combobox.get()), 1, 1).date()\n",
        "        end_date = datetime.datetime(int(period_combobox.get()), 12, 31).date()\n",
        "\n",
        "    # Начальная дата\n",
        "    date = start_date\n",
        "    # Получение курса валюты на каждую дату в указанном диапозоне\n",
        "    while date <= end_date:\n",
        "        rate = get_currency_rate(currency_code, date.strftime(\"%d/%m/%Y\"))\n",
        "        dates.append(date)\n",
        "        rates.append(rate)\n",
        "        # Если достингнута текущая дата\n",
        "        if date == datetime.datetime.today().date():\n",
        "            end_date = datetime.date(datetime.datetime.today().year, datetime.datetime.today().month,\n",
        "                                    datetime.datetime.today().day)\n",
        "            break\n",
        "        date += timedelta(days=1)\n",
        "    matplotlib.use('TkAgg')\n",
        "    # Создание объекта крафика\n",
        "    fig = plt.figure(figsize=(11, 4))\n",
        "    # Создание холста для отображения графика\n",
        "    canvas = matplotlib.backends.backend_tkagg.FigureCanvasTkAgg(fig, master=tab2)\n",
        "    plot_widget = canvas.get_tk_widget()\n",
        "    fig.clear()\n",
        "    # Постороение графика курса валюты\n",
        "    plt.plot(dates, rates)\n",
        "    plt.grid()\n",
        "    # Размещение графика в окне\n",
        "    plot_widget.grid(row=5, column=0)\n",
        "    #except:\n",
        "    #    messagebox.showwarning(\"Ошибка\", \"Выберете валюту и диапазон\")\n",
        "\n",
        "\n",
        "\n",
        "\n",
        "\n",
        "graf = Button(tab2, text=\"Построить график\", command=graf_create)\n",
        "graf.grid(column=0, row=3, padx=10, pady=10)\n",
        "\n",
        "\n",
        "# ==================================================================================================================\n",
        "\n",
        "tab_control.pack(expand=1, fill=\"both\")  # Открытие первой вкладки\n",
        "window.mainloop()  # Запуск главного цикла обработки событий\n"
      ],
      "metadata": {
        "colab": {
          "base_uri": "https://localhost:8080/",
          "height": 332
        },
        "id": "NoJ-BR4bDMHT",
        "outputId": "774f4597-6630-4deb-c613-cff994ea35ff"
      },
      "execution_count": null,
      "outputs": [
        {
          "output_type": "error",
          "ename": "TclError",
          "evalue": "no display name and no $DISPLAY environment variable",
          "traceback": [
            "\u001b[0;31m---------------------------------------------------------------------------\u001b[0m",
            "\u001b[0;31mTclError\u001b[0m                                  Traceback (most recent call last)",
            "\u001b[0;32m<ipython-input-2-62bae371158d>\u001b[0m in \u001b[0;36m<cell line: 84>\u001b[0;34m()\u001b[0m\n\u001b[1;32m     82\u001b[0m             \u001b[0;32mreturn\u001b[0m \u001b[0mfloat\u001b[0m\u001b[0;34m(\u001b[0m\u001b[0mvalute\u001b[0m\u001b[0;34m.\u001b[0m\u001b[0mfind\u001b[0m\u001b[0;34m(\u001b[0m\u001b[0;34m\"Value\"\u001b[0m\u001b[0;34m)\u001b[0m\u001b[0;34m.\u001b[0m\u001b[0mtext\u001b[0m\u001b[0;34m.\u001b[0m\u001b[0mreplace\u001b[0m\u001b[0;34m(\u001b[0m\u001b[0;34m\",\"\u001b[0m\u001b[0;34m,\u001b[0m \u001b[0;34m\".\"\u001b[0m\u001b[0;34m)\u001b[0m\u001b[0;34m)\u001b[0m \u001b[0;34m/\u001b[0m \u001b[0mfloat\u001b[0m\u001b[0;34m(\u001b[0m\u001b[0mvalute\u001b[0m\u001b[0;34m.\u001b[0m\u001b[0mfind\u001b[0m\u001b[0;34m(\u001b[0m\u001b[0;34m\"Nominal\"\u001b[0m\u001b[0;34m)\u001b[0m\u001b[0;34m.\u001b[0m\u001b[0mtext\u001b[0m\u001b[0;34m)\u001b[0m\u001b[0;34m\u001b[0m\u001b[0;34m\u001b[0m\u001b[0m\n\u001b[1;32m     83\u001b[0m \u001b[0;34m\u001b[0m\u001b[0m\n\u001b[0;32m---> 84\u001b[0;31m \u001b[0mwindow\u001b[0m \u001b[0;34m=\u001b[0m \u001b[0mTk\u001b[0m\u001b[0;34m(\u001b[0m\u001b[0;34m)\u001b[0m  \u001b[0;31m# При создании объекта класса ТК запускается интерпретатор и создаётся базовое окно приложения\u001b[0m\u001b[0;34m\u001b[0m\u001b[0;34m\u001b[0m\u001b[0m\n\u001b[0m\u001b[1;32m     85\u001b[0m \u001b[0mwindow\u001b[0m\u001b[0;34m.\u001b[0m\u001b[0mtitle\u001b[0m\u001b[0;34m(\u001b[0m\u001b[0;34m\"Конвертер валют\"\u001b[0m\u001b[0;34m)\u001b[0m  \u001b[0;31m# Название окна\u001b[0m\u001b[0;34m\u001b[0m\u001b[0;34m\u001b[0m\u001b[0m\n\u001b[1;32m     86\u001b[0m \u001b[0mwindow\u001b[0m\u001b[0;34m.\u001b[0m\u001b[0mgeometry\u001b[0m\u001b[0;34m(\u001b[0m\u001b[0;34m\"1680x1050\"\u001b[0m\u001b[0;34m)\u001b[0m  \u001b[0;31m# Размеры окна\u001b[0m\u001b[0;34m\u001b[0m\u001b[0;34m\u001b[0m\u001b[0m\n",
            "\u001b[0;32m/usr/lib/python3.10/tkinter/__init__.py\u001b[0m in \u001b[0;36m__init__\u001b[0;34m(self, screenName, baseName, className, useTk, sync, use)\u001b[0m\n\u001b[1;32m   2297\u001b[0m                 \u001b[0mbaseName\u001b[0m \u001b[0;34m=\u001b[0m \u001b[0mbaseName\u001b[0m \u001b[0;34m+\u001b[0m \u001b[0mext\u001b[0m\u001b[0;34m\u001b[0m\u001b[0;34m\u001b[0m\u001b[0m\n\u001b[1;32m   2298\u001b[0m         \u001b[0minteractive\u001b[0m \u001b[0;34m=\u001b[0m \u001b[0;32mFalse\u001b[0m\u001b[0;34m\u001b[0m\u001b[0;34m\u001b[0m\u001b[0m\n\u001b[0;32m-> 2299\u001b[0;31m         \u001b[0mself\u001b[0m\u001b[0;34m.\u001b[0m\u001b[0mtk\u001b[0m \u001b[0;34m=\u001b[0m \u001b[0m_tkinter\u001b[0m\u001b[0;34m.\u001b[0m\u001b[0mcreate\u001b[0m\u001b[0;34m(\u001b[0m\u001b[0mscreenName\u001b[0m\u001b[0;34m,\u001b[0m \u001b[0mbaseName\u001b[0m\u001b[0;34m,\u001b[0m \u001b[0mclassName\u001b[0m\u001b[0;34m,\u001b[0m \u001b[0minteractive\u001b[0m\u001b[0;34m,\u001b[0m \u001b[0mwantobjects\u001b[0m\u001b[0;34m,\u001b[0m \u001b[0museTk\u001b[0m\u001b[0;34m,\u001b[0m \u001b[0msync\u001b[0m\u001b[0;34m,\u001b[0m \u001b[0muse\u001b[0m\u001b[0;34m)\u001b[0m\u001b[0;34m\u001b[0m\u001b[0;34m\u001b[0m\u001b[0m\n\u001b[0m\u001b[1;32m   2300\u001b[0m         \u001b[0;32mif\u001b[0m \u001b[0museTk\u001b[0m\u001b[0;34m:\u001b[0m\u001b[0;34m\u001b[0m\u001b[0;34m\u001b[0m\u001b[0m\n\u001b[1;32m   2301\u001b[0m             \u001b[0mself\u001b[0m\u001b[0;34m.\u001b[0m\u001b[0m_loadtk\u001b[0m\u001b[0;34m(\u001b[0m\u001b[0;34m)\u001b[0m\u001b[0;34m\u001b[0m\u001b[0;34m\u001b[0m\u001b[0m\n",
            "\u001b[0;31mTclError\u001b[0m: no display name and no $DISPLAY environment variable"
          ]
        }
      ]
    },
    {
      "cell_type": "code",
      "execution_count": null,
      "metadata": {
        "id": "A-KLyNMz5UdZ"
      },
      "outputs": [],
      "source": [
        "import pandas as pd\n",
        "import numpy as np\n",
        "from random import randrange\n",
        "import math\n",
        "from collections import Counter\n",
        "import matplotlib.pyplot as plt\n",
        "\n",
        "from sklearn.datasets import load_breast_cancer\n",
        "\n",
        "from sklearn.model_selection import train_test_split\n",
        "from sklearn.model_selection import cross_val_score\n",
        "from sklearn.model_selection import GridSearchCV\n",
        "from sklearn.metrics import accuracy_score\n",
        "from sklearn.metrics import f1_score\n",
        "\n",
        "from sklearn.metrics import make_scorer\n",
        "\n",
        "from sklearn.tree import DecisionTreeClassifier\n",
        "from sklearn.neighbors import KNeighborsClassifier\n",
        "\n",
        "from sklearn.ensemble import BaggingClassifier"
      ]
    },
    {
      "cell_type": "markdown",
      "metadata": {
        "id": "hxn62XZ-5Uda"
      },
      "source": [
        "## Практика 1\n",
        "### Шаг 1 - Загружаем данные"
      ]
    },
    {
      "cell_type": "code",
      "execution_count": null,
      "metadata": {
        "colab": {
          "base_uri": "https://localhost:8080/",
          "height": 297
        },
        "id": "vxcCyF6I5Uda",
        "outputId": "25f4e053-b79e-4dc5-c612-c16329b08258"
      },
      "outputs": [
        {
          "output_type": "execute_result",
          "data": {
            "text/plain": [
              "   mean radius  mean texture  mean perimeter  mean area  mean smoothness  \\\n",
              "0        17.99         10.38          122.80     1001.0          0.11840   \n",
              "1        20.57         17.77          132.90     1326.0          0.08474   \n",
              "2        19.69         21.25          130.00     1203.0          0.10960   \n",
              "3        11.42         20.38           77.58      386.1          0.14250   \n",
              "4        20.29         14.34          135.10     1297.0          0.10030   \n",
              "\n",
              "   mean compactness  mean concavity  mean concave points  mean symmetry  \\\n",
              "0           0.27760          0.3001              0.14710         0.2419   \n",
              "1           0.07864          0.0869              0.07017         0.1812   \n",
              "2           0.15990          0.1974              0.12790         0.2069   \n",
              "3           0.28390          0.2414              0.10520         0.2597   \n",
              "4           0.13280          0.1980              0.10430         0.1809   \n",
              "\n",
              "   mean fractal dimension  ...  worst texture  worst perimeter  worst area  \\\n",
              "0                 0.07871  ...          17.33           184.60      2019.0   \n",
              "1                 0.05667  ...          23.41           158.80      1956.0   \n",
              "2                 0.05999  ...          25.53           152.50      1709.0   \n",
              "3                 0.09744  ...          26.50            98.87       567.7   \n",
              "4                 0.05883  ...          16.67           152.20      1575.0   \n",
              "\n",
              "   worst smoothness  worst compactness  worst concavity  worst concave points  \\\n",
              "0            0.1622             0.6656           0.7119                0.2654   \n",
              "1            0.1238             0.1866           0.2416                0.1860   \n",
              "2            0.1444             0.4245           0.4504                0.2430   \n",
              "3            0.2098             0.8663           0.6869                0.2575   \n",
              "4            0.1374             0.2050           0.4000                0.1625   \n",
              "\n",
              "   worst symmetry  worst fractal dimension  target  \n",
              "0          0.4601                  0.11890     0.0  \n",
              "1          0.2750                  0.08902     0.0  \n",
              "2          0.3613                  0.08758     0.0  \n",
              "3          0.6638                  0.17300     0.0  \n",
              "4          0.2364                  0.07678     0.0  \n",
              "\n",
              "[5 rows x 31 columns]"
            ],
            "text/html": [
              "\n",
              "  <div id=\"df-039456c6-ccab-4b93-b8bb-c0987ff99646\">\n",
              "    <div class=\"colab-df-container\">\n",
              "      <div>\n",
              "<style scoped>\n",
              "    .dataframe tbody tr th:only-of-type {\n",
              "        vertical-align: middle;\n",
              "    }\n",
              "\n",
              "    .dataframe tbody tr th {\n",
              "        vertical-align: top;\n",
              "    }\n",
              "\n",
              "    .dataframe thead th {\n",
              "        text-align: right;\n",
              "    }\n",
              "</style>\n",
              "<table border=\"1\" class=\"dataframe\">\n",
              "  <thead>\n",
              "    <tr style=\"text-align: right;\">\n",
              "      <th></th>\n",
              "      <th>mean radius</th>\n",
              "      <th>mean texture</th>\n",
              "      <th>mean perimeter</th>\n",
              "      <th>mean area</th>\n",
              "      <th>mean smoothness</th>\n",
              "      <th>mean compactness</th>\n",
              "      <th>mean concavity</th>\n",
              "      <th>mean concave points</th>\n",
              "      <th>mean symmetry</th>\n",
              "      <th>mean fractal dimension</th>\n",
              "      <th>...</th>\n",
              "      <th>worst texture</th>\n",
              "      <th>worst perimeter</th>\n",
              "      <th>worst area</th>\n",
              "      <th>worst smoothness</th>\n",
              "      <th>worst compactness</th>\n",
              "      <th>worst concavity</th>\n",
              "      <th>worst concave points</th>\n",
              "      <th>worst symmetry</th>\n",
              "      <th>worst fractal dimension</th>\n",
              "      <th>target</th>\n",
              "    </tr>\n",
              "  </thead>\n",
              "  <tbody>\n",
              "    <tr>\n",
              "      <th>0</th>\n",
              "      <td>17.99</td>\n",
              "      <td>10.38</td>\n",
              "      <td>122.80</td>\n",
              "      <td>1001.0</td>\n",
              "      <td>0.11840</td>\n",
              "      <td>0.27760</td>\n",
              "      <td>0.3001</td>\n",
              "      <td>0.14710</td>\n",
              "      <td>0.2419</td>\n",
              "      <td>0.07871</td>\n",
              "      <td>...</td>\n",
              "      <td>17.33</td>\n",
              "      <td>184.60</td>\n",
              "      <td>2019.0</td>\n",
              "      <td>0.1622</td>\n",
              "      <td>0.6656</td>\n",
              "      <td>0.7119</td>\n",
              "      <td>0.2654</td>\n",
              "      <td>0.4601</td>\n",
              "      <td>0.11890</td>\n",
              "      <td>0.0</td>\n",
              "    </tr>\n",
              "    <tr>\n",
              "      <th>1</th>\n",
              "      <td>20.57</td>\n",
              "      <td>17.77</td>\n",
              "      <td>132.90</td>\n",
              "      <td>1326.0</td>\n",
              "      <td>0.08474</td>\n",
              "      <td>0.07864</td>\n",
              "      <td>0.0869</td>\n",
              "      <td>0.07017</td>\n",
              "      <td>0.1812</td>\n",
              "      <td>0.05667</td>\n",
              "      <td>...</td>\n",
              "      <td>23.41</td>\n",
              "      <td>158.80</td>\n",
              "      <td>1956.0</td>\n",
              "      <td>0.1238</td>\n",
              "      <td>0.1866</td>\n",
              "      <td>0.2416</td>\n",
              "      <td>0.1860</td>\n",
              "      <td>0.2750</td>\n",
              "      <td>0.08902</td>\n",
              "      <td>0.0</td>\n",
              "    </tr>\n",
              "    <tr>\n",
              "      <th>2</th>\n",
              "      <td>19.69</td>\n",
              "      <td>21.25</td>\n",
              "      <td>130.00</td>\n",
              "      <td>1203.0</td>\n",
              "      <td>0.10960</td>\n",
              "      <td>0.15990</td>\n",
              "      <td>0.1974</td>\n",
              "      <td>0.12790</td>\n",
              "      <td>0.2069</td>\n",
              "      <td>0.05999</td>\n",
              "      <td>...</td>\n",
              "      <td>25.53</td>\n",
              "      <td>152.50</td>\n",
              "      <td>1709.0</td>\n",
              "      <td>0.1444</td>\n",
              "      <td>0.4245</td>\n",
              "      <td>0.4504</td>\n",
              "      <td>0.2430</td>\n",
              "      <td>0.3613</td>\n",
              "      <td>0.08758</td>\n",
              "      <td>0.0</td>\n",
              "    </tr>\n",
              "    <tr>\n",
              "      <th>3</th>\n",
              "      <td>11.42</td>\n",
              "      <td>20.38</td>\n",
              "      <td>77.58</td>\n",
              "      <td>386.1</td>\n",
              "      <td>0.14250</td>\n",
              "      <td>0.28390</td>\n",
              "      <td>0.2414</td>\n",
              "      <td>0.10520</td>\n",
              "      <td>0.2597</td>\n",
              "      <td>0.09744</td>\n",
              "      <td>...</td>\n",
              "      <td>26.50</td>\n",
              "      <td>98.87</td>\n",
              "      <td>567.7</td>\n",
              "      <td>0.2098</td>\n",
              "      <td>0.8663</td>\n",
              "      <td>0.6869</td>\n",
              "      <td>0.2575</td>\n",
              "      <td>0.6638</td>\n",
              "      <td>0.17300</td>\n",
              "      <td>0.0</td>\n",
              "    </tr>\n",
              "    <tr>\n",
              "      <th>4</th>\n",
              "      <td>20.29</td>\n",
              "      <td>14.34</td>\n",
              "      <td>135.10</td>\n",
              "      <td>1297.0</td>\n",
              "      <td>0.10030</td>\n",
              "      <td>0.13280</td>\n",
              "      <td>0.1980</td>\n",
              "      <td>0.10430</td>\n",
              "      <td>0.1809</td>\n",
              "      <td>0.05883</td>\n",
              "      <td>...</td>\n",
              "      <td>16.67</td>\n",
              "      <td>152.20</td>\n",
              "      <td>1575.0</td>\n",
              "      <td>0.1374</td>\n",
              "      <td>0.2050</td>\n",
              "      <td>0.4000</td>\n",
              "      <td>0.1625</td>\n",
              "      <td>0.2364</td>\n",
              "      <td>0.07678</td>\n",
              "      <td>0.0</td>\n",
              "    </tr>\n",
              "  </tbody>\n",
              "</table>\n",
              "<p>5 rows × 31 columns</p>\n",
              "</div>\n",
              "      <button class=\"colab-df-convert\" onclick=\"convertToInteractive('df-039456c6-ccab-4b93-b8bb-c0987ff99646')\"\n",
              "              title=\"Convert this dataframe to an interactive table.\"\n",
              "              style=\"display:none;\">\n",
              "        \n",
              "  <svg xmlns=\"http://www.w3.org/2000/svg\" height=\"24px\"viewBox=\"0 0 24 24\"\n",
              "       width=\"24px\">\n",
              "    <path d=\"M0 0h24v24H0V0z\" fill=\"none\"/>\n",
              "    <path d=\"M18.56 5.44l.94 2.06.94-2.06 2.06-.94-2.06-.94-.94-2.06-.94 2.06-2.06.94zm-11 1L8.5 8.5l.94-2.06 2.06-.94-2.06-.94L8.5 2.5l-.94 2.06-2.06.94zm10 10l.94 2.06.94-2.06 2.06-.94-2.06-.94-.94-2.06-.94 2.06-2.06.94z\"/><path d=\"M17.41 7.96l-1.37-1.37c-.4-.4-.92-.59-1.43-.59-.52 0-1.04.2-1.43.59L10.3 9.45l-7.72 7.72c-.78.78-.78 2.05 0 2.83L4 21.41c.39.39.9.59 1.41.59.51 0 1.02-.2 1.41-.59l7.78-7.78 2.81-2.81c.8-.78.8-2.07 0-2.86zM5.41 20L4 18.59l7.72-7.72 1.47 1.35L5.41 20z\"/>\n",
              "  </svg>\n",
              "      </button>\n",
              "      \n",
              "  <style>\n",
              "    .colab-df-container {\n",
              "      display:flex;\n",
              "      flex-wrap:wrap;\n",
              "      gap: 12px;\n",
              "    }\n",
              "\n",
              "    .colab-df-convert {\n",
              "      background-color: #E8F0FE;\n",
              "      border: none;\n",
              "      border-radius: 50%;\n",
              "      cursor: pointer;\n",
              "      display: none;\n",
              "      fill: #1967D2;\n",
              "      height: 32px;\n",
              "      padding: 0 0 0 0;\n",
              "      width: 32px;\n",
              "    }\n",
              "\n",
              "    .colab-df-convert:hover {\n",
              "      background-color: #E2EBFA;\n",
              "      box-shadow: 0px 1px 2px rgba(60, 64, 67, 0.3), 0px 1px 3px 1px rgba(60, 64, 67, 0.15);\n",
              "      fill: #174EA6;\n",
              "    }\n",
              "\n",
              "    [theme=dark] .colab-df-convert {\n",
              "      background-color: #3B4455;\n",
              "      fill: #D2E3FC;\n",
              "    }\n",
              "\n",
              "    [theme=dark] .colab-df-convert:hover {\n",
              "      background-color: #434B5C;\n",
              "      box-shadow: 0px 1px 3px 1px rgba(0, 0, 0, 0.15);\n",
              "      filter: drop-shadow(0px 1px 2px rgba(0, 0, 0, 0.3));\n",
              "      fill: #FFFFFF;\n",
              "    }\n",
              "  </style>\n",
              "\n",
              "      <script>\n",
              "        const buttonEl =\n",
              "          document.querySelector('#df-039456c6-ccab-4b93-b8bb-c0987ff99646 button.colab-df-convert');\n",
              "        buttonEl.style.display =\n",
              "          google.colab.kernel.accessAllowed ? 'block' : 'none';\n",
              "\n",
              "        async function convertToInteractive(key) {\n",
              "          const element = document.querySelector('#df-039456c6-ccab-4b93-b8bb-c0987ff99646');\n",
              "          const dataTable =\n",
              "            await google.colab.kernel.invokeFunction('convertToInteractive',\n",
              "                                                     [key], {});\n",
              "          if (!dataTable) return;\n",
              "\n",
              "          const docLinkHtml = 'Like what you see? Visit the ' +\n",
              "            '<a target=\"_blank\" href=https://colab.research.google.com/notebooks/data_table.ipynb>data table notebook</a>'\n",
              "            + ' to learn more about interactive tables.';\n",
              "          element.innerHTML = '';\n",
              "          dataTable['output_type'] = 'display_data';\n",
              "          await google.colab.output.renderOutput(dataTable, element);\n",
              "          const docLink = document.createElement('div');\n",
              "          docLink.innerHTML = docLinkHtml;\n",
              "          element.appendChild(docLink);\n",
              "        }\n",
              "      </script>\n",
              "    </div>\n",
              "  </div>\n",
              "  "
            ]
          },
          "metadata": {},
          "execution_count": 4
        }
      ],
      "source": [
        "cancer = load_breast_cancer()\n",
        "df = pd.DataFrame(np.c_[cancer['data'], cancer['target']],\n",
        "                  columns= np.append(cancer['feature_names'], ['target']))\n",
        "df.head()"
      ]
    },
    {
      "cell_type": "code",
      "source": [
        "df['target'].value_counts()"
      ],
      "metadata": {
        "colab": {
          "base_uri": "https://localhost:8080/"
        },
        "id": "mIh49SeW6Iv8",
        "outputId": "54d72704-d503-41e0-f0c1-e63cd1828f62"
      },
      "execution_count": null,
      "outputs": [
        {
          "output_type": "execute_result",
          "data": {
            "text/plain": [
              "1.0    357\n",
              "0.0    212\n",
              "Name: target, dtype: int64"
            ]
          },
          "metadata": {},
          "execution_count": 5
        }
      ]
    },
    {
      "cell_type": "code",
      "execution_count": null,
      "metadata": {
        "id": "xgF96iOj5Udb"
      },
      "outputs": [],
      "source": [
        "y = df['target']\n",
        "X = df.drop(columns=['target'])"
      ]
    },
    {
      "cell_type": "markdown",
      "metadata": {
        "id": "eSIgVZEB5Udb"
      },
      "source": [
        "\n",
        "### Шаг 2 - Строим решающее дерево и получаем оценку правильности"
      ]
    },
    {
      "cell_type": "code",
      "execution_count": null,
      "metadata": {
        "id": "45qqpwEx5Udb"
      },
      "outputs": [],
      "source": [
        "# your code here"
      ]
    },
    {
      "cell_type": "code",
      "execution_count": null,
      "metadata": {
        "colab": {
          "base_uri": "https://localhost:8080/"
        },
        "id": "C_XoyOw75Udb",
        "outputId": "03613cdf-1456-4684-8bc5-0d7aed0d1834"
      },
      "outputs": [
        {
          "output_type": "execute_result",
          "data": {
            "text/plain": [
              "0.9324303538726385"
            ]
          },
          "metadata": {},
          "execution_count": 7
        }
      ],
      "source": [
        "clf = DecisionTreeClassifier()\n",
        "cross_val_score(clf, X, y, scoring='f1').mean()"
      ]
    },
    {
      "cell_type": "code",
      "source": [
        "clf = DecisionTreeClassifier()\n",
        "cross_val_score(clf, X, y, scoring='accuracy').mean()"
      ],
      "metadata": {
        "colab": {
          "base_uri": "https://localhost:8080/"
        },
        "id": "cIFCtQA56mBQ",
        "outputId": "a4605213-dde5-430a-b417-be4f3466f59b"
      },
      "execution_count": null,
      "outputs": [
        {
          "output_type": "execute_result",
          "data": {
            "text/plain": [
              "0.9226517621487347"
            ]
          },
          "metadata": {},
          "execution_count": 8
        }
      ]
    },
    {
      "cell_type": "markdown",
      "metadata": {
        "id": "7CF3PTgT5Udb"
      },
      "source": [
        "\n",
        "### Шаг 3 - Реализуем bagging (bootstrapaggregation)\n",
        "- опишите класс с параметрами:\n",
        "    - estimators - список алгоритмов\n",
        "    - n_estimators - кол-во обучаемых алгоритмов\n",
        "    - sample_size (по умолчанию 1.0) -  доля объектов в подвыборке\n",
        "    - n_features - кол-во признаков в подпространстве\n",
        "- и методами:\n",
        "     - predict() - возвращает матрицу, элемент которой есть a[i,j] - ответ i-го алгоритма на j-м объекте\n",
        "     - fit() - обученный алгоритм должен оказаться в списке estimators\n",
        "- проверьте реализацию класса на приведенной ниже ячейки"
      ]
    },
    {
      "cell_type": "code",
      "execution_count": null,
      "metadata": {
        "id": "7TESVNCb5Udc"
      },
      "outputs": [],
      "source": [
        "from numpy.lib.shape_base import column_stack\n",
        "from operator import index\n",
        "class BaggingDecisionClassifier:\n",
        "    def __init__(self, n_estimators, sample_size = 1.0):\n",
        "        self.n_estimators = n_estimators\n",
        "        self.sample_size = sample_size\n",
        "        self.estimators = []\n",
        "\n",
        "    def bootstrap_samples(self, data_size):\n",
        "      indexes = []\n",
        "\n",
        "      while len(indexes) < self.sample_size * data_size:\n",
        "        indexes.append(randrange(data_size))\n",
        "      return np.array(indexes)\n",
        "\n",
        "\n",
        "    def predict(self, X):\n",
        "        # your code here\n",
        "        predicted = np.zeros((self.n_estimators, len(X)))\n",
        "\n",
        "        for i, alg in enumerate(self.estimators):\n",
        "          y_pred = alg.predict(X)\n",
        "          for j, v in enumerate(y_pred):\n",
        "            predicted[i][j] = v\n",
        "\n",
        "        result = []\n",
        "        for j in range(len(X)):\n",
        "          column = predicted[:, j]\n",
        "          result.append(sum(column) / len(column) > 0.5)\n",
        "\n",
        "        return np.array(result)\n",
        "\n",
        "\n",
        "    def fit(self, X, y):\n",
        "        # your code here\n",
        "        for i in range(self.n_estimators):\n",
        "          indexes = self.bootstrap_samples(len(X))\n",
        "\n",
        "          X_samples = X.iloc[indexes]\n",
        "          y_samples = y.iloc[indexes]\n",
        "\n",
        "          clf = DecisionTreeClassifier()\n",
        "          clf.fit(X_samples, y_samples)\n",
        "\n",
        "          self.estimators.append(clf)"
      ]
    },
    {
      "cell_type": "code",
      "execution_count": null,
      "metadata": {
        "colab": {
          "base_uri": "https://localhost:8080/"
        },
        "id": "J7FTn5cK5Udc",
        "outputId": "31f3ce3c-ecb9-433f-d10c-f6ea66dbc971"
      },
      "outputs": [
        {
          "output_type": "execute_result",
          "data": {
            "text/plain": [
              "0.9982425307557118"
            ]
          },
          "metadata": {},
          "execution_count": 10
        }
      ],
      "source": [
        "# ПРОВЕРКА реализации класса\n",
        "bcf = BaggingDecisionClassifier(n_estimators=10)\n",
        "bcf.fit(X, y)\n",
        "y_pred = bcf.predict(X)\n",
        "accuracy_score(y, y_pred)"
      ]
    },
    {
      "cell_type": "code",
      "execution_count": null,
      "metadata": {
        "id": "COvqgOXW5Udc"
      },
      "outputs": [],
      "source": []
    },
    {
      "cell_type": "markdown",
      "metadata": {
        "id": "hrleb0hL5Udc"
      },
      "source": [
        "\n",
        "### Шаг 4 - Используем BaggingDecisionClassifier\n",
        "- разбейте данные на обучение и тест, в тест положите третью часть данных\n",
        "- обучите BaggingDecisionClassifier\n",
        "- постройте прогноз  на тесте\n",
        "- посчитайте accuracy"
      ]
    },
    {
      "cell_type": "code",
      "execution_count": null,
      "metadata": {
        "id": "wprVgSFe5Udc"
      },
      "outputs": [],
      "source": [
        "# your code here"
      ]
    },
    {
      "cell_type": "code",
      "source": [
        "len(df['target'])"
      ],
      "metadata": {
        "colab": {
          "base_uri": "https://localhost:8080/"
        },
        "id": "C6wistRqC8wu",
        "outputId": "839de144-1bdc-4e65-db21-0e7f586c4ab8"
      },
      "execution_count": null,
      "outputs": [
        {
          "output_type": "execute_result",
          "data": {
            "text/plain": [
              "569"
            ]
          },
          "metadata": {},
          "execution_count": 11
        }
      ]
    },
    {
      "cell_type": "code",
      "execution_count": null,
      "metadata": {
        "id": "_1W-It0L5Udd",
        "colab": {
          "base_uri": "https://localhost:8080/"
        },
        "outputId": "50949f55-ee67-471e-96fc-1e45c829982f"
      },
      "outputs": [
        {
          "output_type": "execute_result",
          "data": {
            "text/plain": [
              "0.9982425307557118"
            ]
          },
          "metadata": {},
          "execution_count": 12
        }
      ],
      "source": [
        "# ПРОВЕРКА реализации класса\n",
        "y = df['target']\n",
        "X = df.drop(columns=['target'])\n",
        "bcf = BaggingDecisionClassifier(n_estimators=10)\n",
        "bcf.fit(X, y)\n",
        "y_pred = bcf.predict(X)\n",
        "accuracy_score(y, y_pred)"
      ]
    },
    {
      "cell_type": "markdown",
      "metadata": {
        "id": "0vwyikiJ5Udd"
      },
      "source": [
        "\n",
        "### Шаг 5 - Сравниваем с BaggingClassifier\n",
        "- обучите библиотечную модель\n",
        "- оптимизируйте параметры с помощью решетчатого поиска:\n",
        "    - n_estimators - количество базовых алгоритмов\n",
        "    - max_features - количество отбираемых для обучения признаков\n",
        "    - base_estimator - по умолчанию DecisionTreeClassifier\n",
        "    - max_depth для  DecisionTreeClassifier - глубина дерева"
      ]
    },
    {
      "cell_type": "code",
      "execution_count": null,
      "metadata": {
        "id": "yQCQSvbJ5Udd"
      },
      "outputs": [],
      "source": [
        "# your code here"
      ]
    },
    {
      "cell_type": "code",
      "execution_count": null,
      "metadata": {
        "id": "pdVmB9rx5Udd"
      },
      "outputs": [],
      "source": []
    },
    {
      "cell_type": "markdown",
      "metadata": {
        "id": "UclAdY2w5Udd"
      },
      "source": [
        "#  Алгоритм случайного леса\n"
      ]
    },
    {
      "cell_type": "markdown",
      "metadata": {
        "id": "MHXM7XL05Udd"
      },
      "source": [
        "## Практика 2\n",
        "### Шаг 2.1 - Реализуем алгоритм случайного леса\n",
        "- опишите класс дерево:\n",
        "    - с атрибутами решающего дерева и набора признаков\n",
        "    - и методами predict() и fit()\n",
        "- опишите класс случайный лес со списком классификаторов и методами:\n",
        "    - bootstrap_selector() получения бутстрапированной выборки\n",
        "    - predict()\n",
        "    - fit()"
      ]
    },
    {
      "cell_type": "code",
      "execution_count": null,
      "metadata": {
        "id": "2C3yjA6-5Udd"
      },
      "outputs": [],
      "source": [
        "class Tree:\n",
        "    def __init__(self, features):\n",
        "        self.tree = DecisionTreeClassifier()\n",
        "        self.features = features\n",
        "\n",
        "    def fit(self, X, y):\n",
        "        self.tree.fit(X, y)\n",
        "\n",
        "    def predict(self, X):\n",
        "        return self.tree.predict(X.iloc[:, self.features])\n",
        "\n",
        "\n",
        "class RandomForest:\n",
        "    def __init__(self, n_estimators):\n",
        "        self.n_estimators = n_estimators\n",
        "        self.estimators = []\n",
        "\n",
        "    def bootstrap_selector(self, size):\n",
        "        return np.array([randrange(size) for _ in range(size)])\n",
        "\n",
        "    def split(self, size, m):\n",
        "        return np.random.choice(list(range(0, size)), size = m, replace = True)\n",
        "\n",
        "\n",
        "    def fit(self, X, y):\n",
        "        m = int(math.sqrt(len(X.columns)))\n",
        "\n",
        "        for i in range(self.n_estimators):\n",
        "            indexes = self.bootstrap_selector(len(X))\n",
        "            rows = self.split(len(X.columns), m)\n",
        "            X_new = X.iloc[indexes, rows]\n",
        "            y_new = y.iloc[indexes]\n",
        "            clf = Tree(rows)\n",
        "            clf.fit(X_new, y_new)\n",
        "            self.estimators.append(clf)\n",
        "\n",
        "    def predict(self, X):\n",
        "        # your code here\n",
        "\n",
        "        answers = np.array([])\n",
        "        for est in self.estimators:\n",
        "\n",
        "            answers = est.predict(X) if not answers.size else np.vstack((answers, est.predict(X)))\n",
        "        return np.array([Counter(answers[:, i]).most_common(1)[0][0] for i in range(len(X))])"
      ]
    },
    {
      "cell_type": "code",
      "execution_count": null,
      "metadata": {
        "id": "F5NZLwBp5Ude"
      },
      "outputs": [],
      "source": []
    },
    {
      "cell_type": "markdown",
      "metadata": {
        "id": "-Vtl7NRt5Ude"
      },
      "source": [
        "\n",
        "### Шаг 2.2 - Оптимизируем случайный лес\n",
        "- выберите наилучшее количество алгоритмов исходя из метрик f1 и accuracy\n",
        "- выведите полученные знчения"
      ]
    },
    {
      "cell_type": "code",
      "execution_count": null,
      "metadata": {
        "id": "nzQsGBuL5Ude"
      },
      "outputs": [],
      "source": [
        "X_train, X_test, y_train, y_test = train_test_split(X, y, test_size=0.2, random_state=11)"
      ]
    },
    {
      "cell_type": "code",
      "execution_count": null,
      "metadata": {
        "id": "xNoZ5NV65Ude",
        "colab": {
          "base_uri": "https://localhost:8080/"
        },
        "outputId": "c1beb0da-45fa-4814-a56e-3902a1497b07"
      },
      "outputs": [
        {
          "output_type": "stream",
          "name": "stdout",
          "text": [
            "0.9933774834437086 17\n"
          ]
        }
      ],
      "source": [
        "#great search  имбп\n",
        "best_f1 = 0\n",
        "tr_count = 0\n",
        "\n",
        "for tree_count in range(2, 50):\n",
        "  clf = RandomForest(tree_count)\n",
        "  clf.fit(X_train, y_train)\n",
        "  y_pred = clf.predict(X_test)\n",
        "  score = f1_score(y_test, y_pred)\n",
        "  if score > best_f1:\n",
        "    best_f1 = score\n",
        "    tr_count = tree_count\n",
        "print(best_f1, tr_count)"
      ]
    },
    {
      "cell_type": "markdown",
      "metadata": {
        "id": "_giDzmV_5Ude"
      },
      "source": [
        "## Практика 3\n",
        "### Шаг 3.1 - Загружаем данные для задачи\n"
      ]
    },
    {
      "cell_type": "code",
      "execution_count": null,
      "metadata": {
        "id": "T0uDcECF5Ude"
      },
      "outputs": [],
      "source": [
        "from sklearn.datasets import load_digits\n",
        "\n",
        "dataset = load_digits()\n",
        "\n",
        "X = dataset['data']\n",
        "y = dataset['target']"
      ]
    },
    {
      "cell_type": "code",
      "execution_count": null,
      "metadata": {
        "id": "CJNo4Ky35Udf",
        "colab": {
          "base_uri": "https://localhost:8080/"
        },
        "outputId": "62d4cd45-5d9c-408a-9250-457579b27bd3"
      },
      "outputs": [
        {
          "output_type": "execute_result",
          "data": {
            "text/plain": [
              "array([ 0.,  0.,  5., 13.,  9.,  1.,  0.,  0.,  0.,  0., 13., 15., 10.,\n",
              "       15.,  5.,  0.,  0.,  3., 15.,  2.,  0., 11.,  8.,  0.,  0.,  4.,\n",
              "       12.,  0.,  0.,  8.,  8.,  0.,  0.,  5.,  8.,  0.,  0.,  9.,  8.,\n",
              "        0.,  0.,  4., 11.,  0.,  1., 12.,  7.,  0.,  0.,  2., 14.,  5.,\n",
              "       10., 12.,  0.,  0.,  0.,  0.,  6., 13., 10.,  0.,  0.,  0.])"
            ]
          },
          "metadata": {},
          "execution_count": 25
        }
      ],
      "source": [
        "X[0]"
      ]
    },
    {
      "cell_type": "code",
      "source": [],
      "metadata": {
        "id": "1J-xZOG-CrHG"
      },
      "execution_count": null,
      "outputs": []
    },
    {
      "cell_type": "code",
      "execution_count": null,
      "metadata": {
        "scrolled": true,
        "id": "33J0ZF305Udf",
        "colab": {
          "base_uri": "https://localhost:8080/",
          "height": 298
        },
        "outputId": "a3d1596b-21e8-49de-ecf5-aa06712d1ee6"
      },
      "outputs": [
        {
          "output_type": "execute_result",
          "data": {
            "text/plain": [
              "Text(0.5, 1.0, 'Label: 0')"
            ]
          },
          "metadata": {},
          "execution_count": 26
        },
        {
          "output_type": "display_data",
          "data": {
            "text/plain": [
              "<Figure size 432x288 with 1 Axes>"
            ],
            "image/png": "[encoded data removed]"
          },
          "metadata": {
            "needs_background": "light"
          }
        }
      ],
      "source": [
        "plt.imshow(X[0].reshape(8, 8), cmap='gist_gray')\n",
        "plt.title('Label: {}'.format(y[0]))"
      ]
    },
    {
      "cell_type": "markdown",
      "metadata": {
        "id": "4qSrpCAy5Udf"
      },
      "source": [
        "\n",
        "### Шаг 3.2 - Сравниваем классификаторы и ансамбли\n",
        "- Обучите алгоритм ближайших соседей и решающее дерево на загруженных данных\n",
        "- Получите правильность для каждого алгоритма на семифолдовой кросс-валидации\n",
        "- Постройте ансамбль из 100 деревьев, получите правильность для него\n",
        "- Добавьте к ансамблю Метод случайных подпространств, повторите обучение и оценку качества\n",
        "- Проинтерпретируйте полученные результаты\n"
      ]
    },
    {
      "cell_type": "code",
      "execution_count": null,
      "metadata": {
        "id": "pEwZ5IZp5Udf"
      },
      "outputs": [],
      "source": [
        "# your code here"
      ]
    },
    {
      "cell_type": "code",
      "execution_count": null,
      "metadata": {
        "id": "DG7cMDD75Udf",
        "colab": {
          "base_uri": "https://localhost:8080/"
        },
        "outputId": "f1d4bf99-358e-4af7-b395-180853041144"
      },
      "outputs": [
        {
          "output_type": "stream",
          "name": "stdout",
          "text": [
            "KNN: 0.9332267926625902\n",
            "Tree: 0.7696115897720957\n"
          ]
        }
      ],
      "source": [
        "knn = KNeighborsClassifier(n_neighbors=44)\n",
        "tree = DecisionTreeClassifier(max_depth=7)\n",
        "\n",
        "print('KNN:', cross_val_score(knn, X, y, cv=7).mean())\n",
        "print('Tree:', cross_val_score(tree, X, y, cv=7).mean())"
      ]
    },
    {
      "cell_type": "code",
      "source": [
        "b = BaggingClassifier(tree, n_estimators=100)\n",
        "print('Bagging:', cross_val_score(b, X, y, cv=7).mean())"
      ],
      "metadata": {
        "colab": {
          "base_uri": "https://localhost:8080/"
        },
        "id": "BaGN-X2iD0oN",
        "outputId": "7dbc4325-1403-4377-e1d3-a85cb4aea94d"
      },
      "execution_count": null,
      "outputs": [
        {
          "output_type": "stream",
          "name": "stdout",
          "text": [
            "Bagging: 0.8853377744580323\n"
          ]
        }
      ]
    },
    {
      "cell_type": "code",
      "source": [
        "b = BaggingClassifier(tree, n_estimators=100, max_features=19/64)\n",
        "print('Bagging:', cross_val_score(b, X, y, cv=7).mean())"
      ],
      "metadata": {
        "colab": {
          "base_uri": "https://localhost:8080/"
        },
        "id": "z4cxE0gQESXf",
        "outputId": "524c7bc0-5983-4bc3-b668-8ce4cc2a5b26"
      },
      "execution_count": null,
      "outputs": [
        {
          "output_type": "stream",
          "name": "stdout",
          "text": [
            "Bagging: 0.9215167280433575\n"
          ]
        }
      ]
    },
    {
      "cell_type": "markdown",
      "metadata": {
        "id": "faUwesJu5Udf"
      },
      "source": [
        "## Практика 4\n",
        "\n",
        "*Во всех задачах имеется в виду cross_val_score на случайном лесе.*"
      ]
    },
    {
      "cell_type": "markdown",
      "metadata": {
        "id": "9luID6Bo5Udf"
      },
      "source": [
        "### Задача 4.1\n",
        "\n",
        "Возьмите RandomForestClassifier из sklearn.\n",
        "\n",
        "Обучите его с похожими параметрами(кол-во деревьев, random_state, max_features).\n",
        "\n",
        "И сравните результат с \"бэггингом, который как случайный лес(предыдущая практика)\"\n"
      ]
    },
    {
      "cell_type": "code",
      "source": [
        "from sklearn.ensemble import RandomForestClassifier"
      ],
      "metadata": {
        "id": "-vHzrFwBEt1M"
      },
      "execution_count": null,
      "outputs": []
    },
    {
      "cell_type": "code",
      "execution_count": null,
      "metadata": {
        "id": "ToXO4pe25Udf",
        "colab": {
          "base_uri": "https://localhost:8080/"
        },
        "outputId": "f55738c3-8c97-42fa-951d-2cbd49779443"
      },
      "outputs": [
        {
          "output_type": "stream",
          "name": "stdout",
          "text": [
            "Random forest from sklearn: 0.9204028279599779\n"
          ]
        }
      ],
      "source": [
        "rfc = RandomForestClassifier(max_depth=7)\n",
        "print('Random forest from sklearn:', cross_val_score(rfc, X, y, cv=7).mean())"
      ]
    },
    {
      "cell_type": "markdown",
      "metadata": {
        "id": "_SCI87wc5Udg"
      },
      "source": [
        "### Задача 4.2\n",
        "Постройте график cross_val_score от количества деревьев.\n",
        "\n",
        "n_estimators (1, 150) шаг равный 5\n"
      ]
    },
    {
      "cell_type": "code",
      "execution_count": null,
      "metadata": {
        "id": "lWMCk5jw5Udg"
      },
      "outputs": [],
      "source": []
    },
    {
      "cell_type": "code",
      "execution_count": null,
      "metadata": {
        "id": "zNEqQORY5Udg",
        "colab": {
          "base_uri": "https://localhost:8080/",
          "height": 34
        },
        "outputId": "bace4afa-d9a3-478f-f13e-1c2a30580783"
      },
      "outputs": [
        {
          "output_type": "display_data",
          "data": {
            "text/plain": [
              "<Figure size 864x360 with 0 Axes>"
            ]
          },
          "metadata": {}
        }
      ],
      "source": [
        "fig = plt.figure(figsize=(12, 5))\n",
        "plt.barh(None, None, color='purple')\n",
        "plt.show()"
      ]
    },
    {
      "cell_type": "markdown",
      "metadata": {
        "id": "QKeRHhGY5Udg"
      },
      "source": [
        "### Задача 4.3\n",
        "Постройте график cross_val_score от количества фич.\n",
        "\n",
        "max_features = (1..N features)\n",
        "\n",
        "используйте 50/100 деревьев (в зависимости от скорости выполнения)"
      ]
    },
    {
      "cell_type": "code",
      "execution_count": null,
      "metadata": {
        "id": "AzFeXwzw5Udg"
      },
      "outputs": [],
      "source": [
        "# your code here"
      ]
    },
    {
      "cell_type": "code",
      "execution_count": null,
      "metadata": {
        "id": "QIGeuojt5Udg"
      },
      "outputs": [],
      "source": []
    },
    {
      "cell_type": "markdown",
      "metadata": {
        "id": "ZmTkVxCZ5Udg"
      },
      "source": [
        "### Задача 4.4\n",
        "\n",
        "Постройте график cross_val_score от глубины дерева.\n",
        "\n",
        "\n",
        "max_depth = (1..30)\n",
        "\n",
        "используйте 50/100 деревьев(в зависимости от скорости), постройте 2 графика:\n",
        "\n",
        "max_features = n\n",
        "\n",
        "max_features = 'sqrt'"
      ]
    },
    {
      "cell_type": "code",
      "execution_count": null,
      "metadata": {
        "id": "pStkkh125Udg"
      },
      "outputs": [],
      "source": [
        "# your code here"
      ]
    },
    {
      "cell_type": "code",
      "execution_count": null,
      "metadata": {
        "id": "G0T_5DMw5Udh"
      },
      "outputs": [],
      "source": []
    },
    {
      "cell_type": "markdown",
      "metadata": {
        "id": "cTaSsL8f5Udh"
      },
      "source": [
        "### Задача 4.5\n",
        "Получите наилучшее качество cross_val_score(accuracy) на этом датасете, используя случайный лес и GridSearchCV\n",
        "\n",
        "\n"
      ]
    },
    {
      "cell_type": "code",
      "execution_count": null,
      "metadata": {
        "id": "5OdGIu-I5Udh"
      },
      "outputs": [],
      "source": [
        "# your code here"
      ]
    },
    {
      "cell_type": "code",
      "execution_count": null,
      "metadata": {
        "id": "kmRWnRQQ5Udh"
      },
      "outputs": [],
      "source": []
    },
    {
      "cell_type": "markdown",
      "metadata": {
        "id": "Dric0wqh5Udh"
      },
      "source": [
        "### Задача 4.6\n",
        "С помощью параметров из предыдущей задачи, обучите случайный лес, посчитайте accuracy и нарисуйте те объекты, на которых алгоритм ошибается.\n",
        "\n",
        "Картинка. Подпись вида (Алгоритм: 3, Реально: 5)"
      ]
    },
    {
      "cell_type": "code",
      "execution_count": null,
      "metadata": {
        "id": "O_K7lL7Y5Udh"
      },
      "outputs": [],
      "source": [
        "# your code here"
      ]
    },
    {
      "cell_type": "code",
      "execution_count": null,
      "metadata": {
        "id": "uVL5qMGX5Udh"
      },
      "outputs": [],
      "source": []
    },
    {
      "cell_type": "markdown",
      "metadata": {
        "id": "b3Gh8Oul5Udh"
      },
      "source": [
        "### Задача 4.7\n",
        "Попробуйте получить качество лучше используя другой алгоритм"
      ]
    },
    {
      "cell_type": "code",
      "execution_count": null,
      "metadata": {
        "id": "NisL0Ep-5Udh"
      },
      "outputs": [],
      "source": [
        "# your code here"
      ]
    },
    {
      "cell_type": "code",
      "execution_count": null,
      "metadata": {
        "id": "fVf1bCDN5Udh"
      },
      "outputs": [],
      "source": []
    },
    {
      "cell_type": "code",
      "execution_count": null,
      "metadata": {
        "id": "IjGowJpA5Udi"
      },
      "outputs": [],
      "source": []
    }
  ],
  "metadata": {
    "kernelspec": {
      "display_name": "ml",
      "language": "python",
      "name": "ml"
    },
    "language_info": {
      "codemirror_mode": {
        "name": "ipython",
        "version": 3
      },
      "file_extension": ".py",
      "mimetype": "text/x-python",
      "name": "python",
      "nbconvert_exporter": "python",
      "pygments_lexer": "ipython3",
      "version": "3.7.9"
    },
    "colab": {
      "provenance": []
    }
  },
  "nbformat": 4,
  "nbformat_minor": 0
}